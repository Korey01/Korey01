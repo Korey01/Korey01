{
  "nbformat": 4,
  "nbformat_minor": 0,
  "metadata": {
    "colab": {
      "provenance": [],
      "authorship_tag": "ABX9TyP9g9SJ1BKeyXEUXmjkRZ96",
      "include_colab_link": true
    },
    "kernelspec": {
      "name": "python3",
      "display_name": "Python 3"
    },
    "language_info": {
      "name": "python"
    }
  },
  "cells": [
    {
      "cell_type": "markdown",
      "metadata": {
        "id": "view-in-github",
        "colab_type": "text"
      },
      "source": [
        "<a href=\"https://colab.research.google.com/github/Korey01/Korey01/blob/main/COMPLETE%20SALARIES_DATABASE_SQL.ipynb\" target=\"_parent\"><img src=\"https://colab.research.google.com/assets/colab-badge.svg\" alt=\"Open In Colab\"/></a>"
      ]
    },
    {
      "cell_type": "code",
      "execution_count": 1,
      "metadata": {
        "id": "7RIqTrkvdlw0"
      },
      "outputs": [],
      "source": [
        "import numpy as np\n",
        "import pandas as pd\n",
        "import matplotlib.pyplot as plt\n",
        "import sqlite3\n",
        "conn = sqlite3.connect('test.db')\n",
        "import sqlalchemy"
      ]
    },
    {
      "cell_type": "code",
      "source": [
        "#CREATING Departments TABLES\n",
        "conn.execute('''\n",
        "  CREATE TABLE Departments(\n",
        "      Code INTEGAR PRIMARY KEY NOT NULL,\n",
        "      DepartmentName NVARCHAR NOT NULL,\n",
        "      Budget REAL NOT NULL\n",
        "  );'''\n",
        ")\n",
        "conn.commit()\n",
        "print('Departments Table created')"
      ],
      "metadata": {
        "colab": {
          "base_uri": "https://localhost:8080/"
        },
        "id": "q_xa0x5ydn5L",
        "outputId": "9ff8a6bc-1973-4056-fa0a-ee6aea6ecbec"
      },
      "execution_count": 2,
      "outputs": [
        {
          "output_type": "stream",
          "name": "stdout",
          "text": [
            "Departments Table created\n"
          ]
        }
      ]
    },
    {
      "cell_type": "code",
      "source": [
        "\n",
        "#CREATING Employees TABLES\n",
        "conn.execute('''\n",
        "  CREATE TABLE Employees(\n",
        "    SSN INTEGAR PRIMARY KEY NOT NULL,\n",
        "    FirstName TEXT NOT NULL,\n",
        "    LastName NVARCHAR NOT NULL,\n",
        "    DepartmentCode INTEGAR NOT NULL,\n",
        "    DepartmentName NVARCHAR NOT NULL,\n",
        "    Salary INTEGAR NOT NULL,\n",
        "    CONSTRAINT fk_Departments_Code FOREIGN KEY(DepartmentCode)\n",
        "  REFERENCES Departments(Code)\n",
        "\n",
        "  ); '''\n",
        ")\n",
        "conn.commit()\n",
        "print('Employees Table Created')"
      ],
      "metadata": {
        "id": "8OeTzkxvd2Mv",
        "colab": {
          "base_uri": "https://localhost:8080/"
        },
        "outputId": "cd3bf1fb-e392-4a95-8efb-02b85d122981"
      },
      "execution_count": 3,
      "outputs": [
        {
          "output_type": "stream",
          "name": "stdout",
          "text": [
            "Employees Table Created\n"
          ]
        }
      ]
    },
    {
      "cell_type": "code",
      "source": [
        "#Adding properties of Department table\n",
        "conn.execute(\"INSERT INTO Departments(Code, DepartmentName, Budget) VALUES(14, 'IT', 65000);\")\n",
        "conn.execute(\"INSERT INTO Departments(Code, DepartmentName, Budget) VALUES(01, 'Finance', 55000);\")\n",
        "conn.execute(\"INSERT INTO Departments(Code, DepartmentName, Budget) VALUES(08, 'Human Capital', 45000);\")\n",
        "conn.execute(\"INSERT INTO Departments(Code, DepartmentName, Budget) VALUES(18, 'Sales', 50000);\")"
      ],
      "metadata": {
        "colab": {
          "base_uri": "https://localhost:8080/"
        },
        "id": "py9f3zzXd2QG",
        "outputId": "836c168f-0d09-42e7-a28b-019672405dcd"
      },
      "execution_count": 4,
      "outputs": [
        {
          "output_type": "execute_result",
          "data": {
            "text/plain": [
              "<sqlite3.Cursor at 0x79ca1ca419c0>"
            ]
          },
          "metadata": {},
          "execution_count": 4
        }
      ]
    },
    {
      "cell_type": "code",
      "source": [
        "#Adding properties of Employees table\n",
        "conn.execute(\"INSERT INTO Employees(SSN, FirstName, LastName, DepartmentCode, DepartmentName, Salary) VALUES('0003', 'Faith', 'Pembe', 14, 'IT', 1500);\")\n",
        "conn.execute(\"INSERT INTO Employees(SSN, FirstName, LastName, DepartmentCode, DepartmentName, Salary) VALUES('0010', 'Joy', 'Sasha', 01, 'Finance', 1300);\")\n",
        "conn.execute(\"INSERT INTO Employees(SSN, FirstName, LastName, DepartmentCode, DepartmentName, Salary) VALUES('0007', 'Plain', 'Smart', 14, 'IT', 1700);\")\n",
        "conn.execute(\"INSERT INTO Employees(SSN, FirstName, LastName, DepartmentCode, DepartmentName, Salary) VALUES('0004', 'Hush', 'Baby', 18, 'Sales', 1200);\")\n",
        "conn.execute(\"INSERT INTO Employees(SSN, FirstName, LastName, DepartmentCode, DepartmentName, Salary) VALUES('0011', 'Given', 'Vibes', 18, 'Sales', 1400);\")\n",
        "conn.execute(\"INSERT INTO Employees(SSN, FirstName, LastName, DepartmentCode, DepartmentName, Salary) VALUES('0006', 'Lovely', 'Daise', 08, 'Human Capital', 1500);\")\n",
        "conn.execute(\"INSERT INTO Employees(SSN, FirstName, LastName, DepartmentCode, DepartmentName, Salary) VALUES('0015', 'James', 'Bund', 14, 'IT', 1500);\")\n",
        "conn.execute(\"INSERT INTO Employees(SSN, FirstName, LastName, DepartmentCode, DepartmentName, Salary) VALUES('0008', 'Josh', 'Tufune', 01, 'Finance', 1700);\")\n",
        "conn.execute(\"INSERT INTO Employees(SSN, FirstName, LastName, DepartmentCode, DepartmentName, Salary) VALUES('0076', 'Gayme', 'Tymz', 01, 'Finance', 1900);\")\n",
        "conn.execute(\"INSERT INTO Employees(SSN, FirstName, LastName, DepartmentCode, DepartmentName, Salary) VALUES('0002', 'Funny', 'Bonez', 08, 'Human Capital', 1600);\")\n",
        "conn.execute(\"INSERT INTO Employees(SSN, FirstName, LastName, DepartmentCode, DepartmentName, Salary) VALUES('0005', 'Googney', 'Tunez', 18, 'Sales', 1700);\")\n",
        "conn.execute(\"INSERT INTO Employees(SSN, FirstName, LastName, DepartmentCode, DepartmentName, Salary) VALUES('0543', 'Bale', 'Pembe', 18, 'Sales', 1700);\")\n",
        "conn.execute(\"INSERT INTO Employees(SSN, FirstName, LastName, DepartmentCode, DepartmentName, Salary) VALUES('0049', 'Bale', 'Lalupon', 01, 'Finance', 1500);\")\n",
        "conn.commit()"
      ],
      "metadata": {
        "id": "q7diM9NWd2TN"
      },
      "execution_count": 5,
      "outputs": []
    },
    {
      "cell_type": "code",
      "source": [
        "\n",
        "conn = sqlite3.connect('test.db') #Creating Test database from tables\n",
        "cursor = conn.execute(''' SELECT * FROM Departments''') #Call the departments Table\n",
        "for row in cursor:\n",
        "  print(row) #Show Table"
      ],
      "metadata": {
        "id": "rnZFhs6vd2Wp",
        "colab": {
          "base_uri": "https://localhost:8080/"
        },
        "outputId": "83215c52-55d1-4d16-d8ce-719769386f9e"
      },
      "execution_count": 6,
      "outputs": [
        {
          "output_type": "stream",
          "name": "stdout",
          "text": [
            "(14, 'IT', 65000.0)\n",
            "(1, 'Finance', 55000.0)\n",
            "(8, 'Human Capital', 45000.0)\n",
            "(18, 'Sales', 50000.0)\n"
          ]
        }
      ]
    },
    {
      "cell_type": "code",
      "source": [
        "cursor = conn.execute(''' SELECT * FROM Employees''')#Call the departments Table\n",
        "for row in cursor:\n",
        "  print(row) #Show Table"
      ],
      "metadata": {
        "id": "C8lqX8TusrXl",
        "colab": {
          "base_uri": "https://localhost:8080/"
        },
        "outputId": "ab6a02d8-88b4-44d6-a086-041a50727c00"
      },
      "execution_count": 7,
      "outputs": [
        {
          "output_type": "stream",
          "name": "stdout",
          "text": [
            "(3, 'Faith', 'Pembe', 14, 'IT', 1500)\n",
            "(10, 'Joy', 'Sasha', 1, 'Finance', 1300)\n",
            "(7, 'Plain', 'Smart', 14, 'IT', 1700)\n",
            "(4, 'Hush', 'Baby', 18, 'Sales', 1200)\n",
            "(11, 'Given', 'Vibes', 18, 'Sales', 1400)\n",
            "(6, 'Lovely', 'Daise', 8, 'Human Capital', 1500)\n",
            "(15, 'James', 'Bund', 14, 'IT', 1500)\n",
            "(8, 'Josh', 'Tufune', 1, 'Finance', 1700)\n",
            "(76, 'Gayme', 'Tymz', 1, 'Finance', 1900)\n",
            "(2, 'Funny', 'Bonez', 8, 'Human Capital', 1600)\n",
            "(5, 'Googney', 'Tunez', 18, 'Sales', 1700)\n",
            "(543, 'Bale', 'Pembe', 18, 'Sales', 1700)\n",
            "(49, 'Bale', 'Lalupon', 1, 'Finance', 1500)\n"
          ]
        }
      ]
    },
    {
      "cell_type": "code",
      "source": [
        "#PRINT FIRST AND LAST NAME AS FULL NAME\n",
        "\n",
        "cursor = conn.execute('''\n",
        "    SELECT FirstName || ' ' || LastName AS FullName\n",
        "    FROM Employees;\n",
        "''') #NOTE THAT WE CANNOT USE THE CONCAT() FUNCTION LIKE THIS IN SQLITE. WHAT WE USE IS THE OPERATOR || LIKE AS USED ABOVE\n",
        "\n",
        "for row in cursor:\n",
        "    print(row[0])\n"
      ],
      "metadata": {
        "id": "5_t_tHtmsraZ",
        "colab": {
          "base_uri": "https://localhost:8080/"
        },
        "outputId": "85fdc062-e1dc-46c3-c98d-ac551a950205"
      },
      "execution_count": 8,
      "outputs": [
        {
          "output_type": "stream",
          "name": "stdout",
          "text": [
            "Faith Pembe\n",
            "Joy Sasha\n",
            "Plain Smart\n",
            "Hush Baby\n",
            "Given Vibes\n",
            "Lovely Daise\n",
            "James Bund\n",
            "Josh Tufune\n",
            "Gayme Tymz\n",
            "Funny Bonez\n",
            "Googney Tunez\n",
            "Bale Pembe\n",
            "Bale Lalupon\n"
          ]
        }
      ]
    },
    {
      "cell_type": "markdown",
      "source": [
        "##NOTE THAT WE CANNOT USE THE CONCAT() FUNCTION LIKE THIS IN SQLITE. WHAT WE USE IS THE OPERATOR || LIKE AS USED ABOVE"
      ],
      "metadata": {
        "id": "IXMjMqd87ynm"
      }
    },
    {
      "cell_type": "markdown",
      "source": [
        "##PROBLEM STATEMENTS\n"
      ],
      "metadata": {
        "id": "FrB2oP70uUo1"
      }
    },
    {
      "cell_type": "markdown",
      "source": [
        "**Select all the data of employees that work in department 1 and department 14)**"
      ],
      "metadata": {
        "id": "qImo03JD0Mjm"
      }
    },
    {
      "cell_type": "code",
      "source": [
        "#USING THE CUSOR VARIABLE WITH PASSED CONN OBJECT FROM SQLITE TO PASS AND EXECUTE OUR QUERY)\n",
        "cursor = conn.execute('''\n",
        "  SELECT *FROM Employees\n",
        "  WHERE DepartmentCode IN (1, 14);\n",
        "  ''')\n",
        "for row in cursor:# WE PRINT ITERATING THROUGH EVERY QUERIED ROW)\n",
        "  print(row) #PRINTING DESIRED OUTPUT)"
      ],
      "metadata": {
        "id": "mwQeWCHvsrd0",
        "colab": {
          "base_uri": "https://localhost:8080/"
        },
        "outputId": "6e0858cf-6fe5-4ef1-fb64-d54ef7608217"
      },
      "execution_count": 9,
      "outputs": [
        {
          "output_type": "stream",
          "name": "stdout",
          "text": [
            "(3, 'Faith', 'Pembe', 14, 'IT', 1500)\n",
            "(10, 'Joy', 'Sasha', 1, 'Finance', 1300)\n",
            "(7, 'Plain', 'Smart', 14, 'IT', 1700)\n",
            "(15, 'James', 'Bund', 14, 'IT', 1500)\n",
            "(8, 'Josh', 'Tufune', 1, 'Finance', 1700)\n",
            "(76, 'Gayme', 'Tymz', 1, 'Finance', 1900)\n",
            "(49, 'Bale', 'Lalupon', 1, 'Finance', 1500)\n"
          ]
        }
      ]
    },
    {
      "cell_type": "markdown",
      "source": [
        "**Select all employes with Salary starting from 1,400.00**"
      ],
      "metadata": {
        "id": "KXuK9OctunM3"
      }
    },
    {
      "cell_type": "code",
      "source": [
        "#USING THE CUSOR VARIABLE WITH PASSED CONN OBJECT FROM SQLITE TO PASS AND EXECUTE OUR QUERY)\n",
        "cursor = conn.execute('''\n",
        "  SELECT *FROM Employees\n",
        "  WHERE Salary >= (1400);\n",
        "  ''')\n",
        "for row in cursor: # WE PRINT ITERATING THROUGH EVERY QUERIED ROW)\n",
        "  print(row) #PRINTING DESIRED OUTPUT)"
      ],
      "metadata": {
        "id": "eihdHXOvsrh9",
        "colab": {
          "base_uri": "https://localhost:8080/"
        },
        "outputId": "d58b3d34-486f-48de-f511-300e4a50eef2"
      },
      "execution_count": 10,
      "outputs": [
        {
          "output_type": "stream",
          "name": "stdout",
          "text": [
            "(3, 'Faith', 'Pembe', 14, 'IT', 1500)\n",
            "(7, 'Plain', 'Smart', 14, 'IT', 1700)\n",
            "(11, 'Given', 'Vibes', 18, 'Sales', 1400)\n",
            "(6, 'Lovely', 'Daise', 8, 'Human Capital', 1500)\n",
            "(15, 'James', 'Bund', 14, 'IT', 1500)\n",
            "(8, 'Josh', 'Tufune', 1, 'Finance', 1700)\n",
            "(76, 'Gayme', 'Tymz', 1, 'Finance', 1900)\n",
            "(2, 'Funny', 'Bonez', 8, 'Human Capital', 1600)\n",
            "(5, 'Googney', 'Tunez', 18, 'Sales', 1700)\n",
            "(543, 'Bale', 'Pembe', 18, 'Sales', 1700)\n",
            "(49, 'Bale', 'Lalupon', 1, 'Finance', 1500)\n"
          ]
        }
      ]
    },
    {
      "cell_type": "markdown",
      "source": [
        "**Select all employes with Salary below 1,400.00**"
      ],
      "metadata": {
        "id": "lNwSnDDh5lQ7"
      }
    },
    {
      "cell_type": "code",
      "source": [
        "#USING THE CUSOR VARIABLE WITH PASSED CONN OBJECT FROM SQLITE TO PASS AND EXECUTE OUR QUERY)\n",
        "cursor = conn.execute('''\n",
        "  SELECT * FROM Employees\n",
        "  WHERE Salary < 1400;\n",
        "  ''')\n",
        "for row in cursor:# WE PRINT ITERATING THROUGH EVERY QUERIED ROW)\n",
        "  print (row)#PRINTING DESIRED OUTPUT)"
      ],
      "metadata": {
        "id": "deQTKMSa51KG",
        "colab": {
          "base_uri": "https://localhost:8080/"
        },
        "outputId": "9a860648-35cb-43b2-9bd6-9f532fef7f4a"
      },
      "execution_count": 11,
      "outputs": [
        {
          "output_type": "stream",
          "name": "stdout",
          "text": [
            "(10, 'Joy', 'Sasha', 1, 'Finance', 1300)\n",
            "(4, 'Hush', 'Baby', 18, 'Sales', 1200)\n"
          ]
        }
      ]
    },
    {
      "cell_type": "markdown",
      "source": [
        "**We are working on a Legth of Service benefit project and this involves giving gift cards to 5 staffs who have stayed above 2 years with the firm. However we know some have stayed longer than others and we want to prioritize those who have stayed longest. We also know that all staff with SSN 0020 and below have stayed atleast 2 years with the firm. Come up with a list of staff that will qualify for this benefit.**"
      ],
      "metadata": {
        "id": "o-3zi-fNu1JT"
      }
    },
    {
      "cell_type": "code",
      "source": [
        "#USING THE CUSOR VARIABLE WITH PASSED CONN OBJECT FROM SQLITE TO PASS AND EXECUTE OUR QUERY)\n",
        "cursor = conn.execute('''\n",
        "  SELECT * FROM Employees\n",
        "  WHERE SSN <= '0020'\n",
        "  LIMIT 5;\n",
        "  ''')\n",
        "for row in cursor: #WE PRINT ITERATING THROUGH EVERY QUERIED ROW)\n",
        "  print (row)"
      ],
      "metadata": {
        "id": "F0pMRi94BdR8",
        "colab": {
          "base_uri": "https://localhost:8080/"
        },
        "outputId": "0d043005-9ed3-4978-a09d-99bb934ea610"
      },
      "execution_count": 12,
      "outputs": [
        {
          "output_type": "stream",
          "name": "stdout",
          "text": [
            "(2, 'Funny', 'Bonez', 8, 'Human Capital', 1600)\n",
            "(3, 'Faith', 'Pembe', 14, 'IT', 1500)\n",
            "(4, 'Hush', 'Baby', 18, 'Sales', 1200)\n",
            "(5, 'Googney', 'Tunez', 18, 'Sales', 1700)\n",
            "(6, 'Lovely', 'Daise', 8, 'Human Capital', 1500)\n"
          ]
        }
      ]
    },
    {
      "cell_type": "markdown",
      "source": [
        "**What percentage of finance department budget is currently being utilized?**"
      ],
      "metadata": {
        "id": "vUL9cxBYwI3g"
      }
    },
    {
      "cell_type": "code",
      "source": [
        "cursor = conn.execute('''\n",
        "  SELECT ROUND (\n",
        "   (SELECT SUM(Salary) FROM Employees\n",
        "    WHERE DepartmentCode IS 1)\n",
        "    /\n",
        "    (SELECT SUM(Budget) FROM Departments\n",
        "    WHERE DepartmentName IS 'Finance') * 100), 2\n",
        "  AS Result;\n",
        "''')\n",
        "for row in cursor: #WE PRINT ITERATING THROUGH EVERY QUERIED ROW AND USING F.STRING TO TO JOIN THE VARIOIS STRINGED WORDS TO OUR ROW VARIABLE TO FORM A STATEMENT/SENTENCE)\n",
        "  print (f\"Finance is utilizing {row[0]} percent of their budget\" )"
      ],
      "metadata": {
        "colab": {
          "base_uri": "https://localhost:8080/"
        },
        "id": "gkk4lKpwwVUL",
        "outputId": "c3aa8627-cbde-43e4-809d-1cc41c568443"
      },
      "execution_count": 13,
      "outputs": [
        {
          "output_type": "stream",
          "name": "stdout",
          "text": [
            "Finance is utilizing 12.0 percent of their budget\n"
          ]
        }
      ]
    },
    {
      "cell_type": "markdown",
      "source": [
        "**What is the average salary for all the departments?**"
      ],
      "metadata": {
        "id": "I2wgsnRwzEWg"
      }
    },
    {
      "cell_type": "code",
      "source": [
        "#here we use write the code to select our desired outcome by creating a variable \"cursor\" and passing the conn object through which we can write our SQL query on the SQlite package.\n",
        "cursor = conn.execute('''\n",
        "  SELECT AVG(Salary), DepartmentCode, DepartmentName FROM Employees\n",
        "\n",
        "  GROUP BY DepartmentName;\n",
        "  ''')\n",
        "for row in cursor:\n",
        "  print (row)"
      ],
      "metadata": {
        "colab": {
          "base_uri": "https://localhost:8080/"
        },
        "id": "KBsRbBtNzQ-Q",
        "outputId": "0bad3dad-9054-48ae-d1d6-437ae4b1fc8d"
      },
      "execution_count": 14,
      "outputs": [
        {
          "output_type": "stream",
          "name": "stdout",
          "text": [
            "(1600.0, 1, 'Finance')\n",
            "(1550.0, 8, 'Human Capital')\n",
            "(1566.6666666666667, 14, 'IT')\n",
            "(1500.0, 18, 'Sales')\n"
          ]
        }
      ]
    },
    {
      "cell_type": "markdown",
      "source": [
        "**Plot a bar chat to show the distribution of salaries per department**"
      ],
      "metadata": {
        "id": "n9esFkWzzKVQ"
      }
    },
    {
      "cell_type": "code",
      "source": [
        "#First we create a df by using pd.read-sql to access the database and assign it to a variable df_departments\n",
        "df_departments = pd.read_sql('SELECT * FROM Departments', conn)\n",
        "print(df_departments)"
      ],
      "metadata": {
        "colab": {
          "base_uri": "https://localhost:8080/"
        },
        "id": "ODWWiyKYSwKa",
        "outputId": "1434d02f-f46c-40d5-cfb7-faa2daf386ac"
      },
      "execution_count": 15,
      "outputs": [
        {
          "output_type": "stream",
          "name": "stdout",
          "text": [
            "   Code DepartmentName   Budget\n",
            "0    14             IT  65000.0\n",
            "1     1        Finance  55000.0\n",
            "2     8  Human Capital  45000.0\n",
            "3    18          Sales  50000.0\n"
          ]
        }
      ]
    },
    {
      "cell_type": "code",
      "source": [
        "#Then we write the code to plot the bar chart\n",
        "plt.bar(df_departments['DepartmentName'], df_departments['Budget'])\n",
        "plt.xlabel('Department Name')\n",
        "plt.ylabel('Budget')\n",
        "plt.title('Department Budgets')\n",
        "plt.xticks(rotation=45, ha='right')  # Rotate x-axis labels for better visibility\n",
        "plt.tight_layout()"
      ],
      "metadata": {
        "colab": {
          "base_uri": "https://localhost:8080/",
          "height": 486
        },
        "id": "v1LOWv7mzh4k",
        "outputId": "5084bdce-1135-44f1-a945-7fdb3e0dc7fb"
      },
      "execution_count": 16,
      "outputs": [
        {
          "output_type": "display_data",
          "data": {
            "text/plain": [
              "<Figure size 640x480 with 1 Axes>"
            ],
            "image/png": "[encoded data removed]"
          },
          "metadata": {}
        }
      ]
    },
    {
      "cell_type": "markdown",
      "source": [
        "**Plot a Pie chart to show the proportion of staf per department.**"
      ],
      "metadata": {
        "id": "QXmLW5RlziMV"
      }
    },
    {
      "cell_type": "code",
      "source": [
        "#This code helps to create a data frame from sql by using the pd.read_sql to write and pass the SQL querry for selecting the desired output)\n",
        "\n",
        "df_employees = pd.read_sql('SELECT * FROM Employees', conn)\n",
        "df_employees\n",
        "\n",
        "\n",
        "\n"
      ],
      "metadata": {
        "colab": {
          "base_uri": "https://localhost:8080/",
          "height": 457
        },
        "id": "DeGmkmbTzrGo",
        "outputId": "a217a0cf-d804-4890-dbb0-683e6a88dcca"
      },
      "execution_count": 17,
      "outputs": [
        {
          "output_type": "execute_result",
          "data": {
            "text/plain": [
              "    SSN FirstName LastName  DepartmentCode DepartmentName  Salary\n",
              "0     3     Faith    Pembe              14             IT    1500\n",
              "1    10       Joy    Sasha               1        Finance    1300\n",
              "2     7     Plain    Smart              14             IT    1700\n",
              "3     4      Hush     Baby              18          Sales    1200\n",
              "4    11     Given    Vibes              18          Sales    1400\n",
              "5     6    Lovely    Daise               8  Human Capital    1500\n",
              "6    15     James     Bund              14             IT    1500\n",
              "7     8      Josh   Tufune               1        Finance    1700\n",
              "8    76     Gayme     Tymz               1        Finance    1900\n",
              "9     2     Funny    Bonez               8  Human Capital    1600\n",
              "10    5   Googney    Tunez              18          Sales    1700\n",
              "11  543      Bale    Pembe              18          Sales    1700\n",
              "12   49      Bale  Lalupon               1        Finance    1500"
            ],
            "text/html": [
              "\n",
              "  <div id=\"df-2110be08-45b2-40eb-970e-b15dbbd07e64\" class=\"colab-df-container\">\n",
              "    <div>\n",
              "<style scoped>\n",
              "    .dataframe tbody tr th:only-of-type {\n",
              "        vertical-align: middle;\n",
              "    }\n",
              "\n",
              "    .dataframe tbody tr th {\n",
              "        vertical-align: top;\n",
              "    }\n",
              "\n",
              "    .dataframe thead th {\n",
              "        text-align: right;\n",
              "    }\n",
              "</style>\n",
              "<table border=\"1\" class=\"dataframe\">\n",
              "  <thead>\n",
              "    <tr style=\"text-align: right;\">\n",
              "      <th></th>\n",
              "      <th>SSN</th>\n",
              "      <th>FirstName</th>\n",
              "      <th>LastName</th>\n",
              "      <th>DepartmentCode</th>\n",
              "      <th>DepartmentName</th>\n",
              "      <th>Salary</th>\n",
              "    </tr>\n",
              "  </thead>\n",
              "  <tbody>\n",
              "    <tr>\n",
              "      <th>0</th>\n",
              "      <td>3</td>\n",
              "      <td>Faith</td>\n",
              "      <td>Pembe</td>\n",
              "      <td>14</td>\n",
              "      <td>IT</td>\n",
              "      <td>1500</td>\n",
              "    </tr>\n",
              "    <tr>\n",
              "      <th>1</th>\n",
              "      <td>10</td>\n",
              "      <td>Joy</td>\n",
              "      <td>Sasha</td>\n",
              "      <td>1</td>\n",
              "      <td>Finance</td>\n",
              "      <td>1300</td>\n",
              "    </tr>\n",
              "    <tr>\n",
              "      <th>2</th>\n",
              "      <td>7</td>\n",
              "      <td>Plain</td>\n",
              "      <td>Smart</td>\n",
              "      <td>14</td>\n",
              "      <td>IT</td>\n",
              "      <td>1700</td>\n",
              "    </tr>\n",
              "    <tr>\n",
              "      <th>3</th>\n",
              "      <td>4</td>\n",
              "      <td>Hush</td>\n",
              "      <td>Baby</td>\n",
              "      <td>18</td>\n",
              "      <td>Sales</td>\n",
              "      <td>1200</td>\n",
              "    </tr>\n",
              "    <tr>\n",
              "      <th>4</th>\n",
              "      <td>11</td>\n",
              "      <td>Given</td>\n",
              "      <td>Vibes</td>\n",
              "      <td>18</td>\n",
              "      <td>Sales</td>\n",
              "      <td>1400</td>\n",
              "    </tr>\n",
              "    <tr>\n",
              "      <th>5</th>\n",
              "      <td>6</td>\n",
              "      <td>Lovely</td>\n",
              "      <td>Daise</td>\n",
              "      <td>8</td>\n",
              "      <td>Human Capital</td>\n",
              "      <td>1500</td>\n",
              "    </tr>\n",
              "    <tr>\n",
              "      <th>6</th>\n",
              "      <td>15</td>\n",
              "      <td>James</td>\n",
              "      <td>Bund</td>\n",
              "      <td>14</td>\n",
              "      <td>IT</td>\n",
              "      <td>1500</td>\n",
              "    </tr>\n",
              "    <tr>\n",
              "      <th>7</th>\n",
              "      <td>8</td>\n",
              "      <td>Josh</td>\n",
              "      <td>Tufune</td>\n",
              "      <td>1</td>\n",
              "      <td>Finance</td>\n",
              "      <td>1700</td>\n",
              "    </tr>\n",
              "    <tr>\n",
              "      <th>8</th>\n",
              "      <td>76</td>\n",
              "      <td>Gayme</td>\n",
              "      <td>Tymz</td>\n",
              "      <td>1</td>\n",
              "      <td>Finance</td>\n",
              "      <td>1900</td>\n",
              "    </tr>\n",
              "    <tr>\n",
              "      <th>9</th>\n",
              "      <td>2</td>\n",
              "      <td>Funny</td>\n",
              "      <td>Bonez</td>\n",
              "      <td>8</td>\n",
              "      <td>Human Capital</td>\n",
              "      <td>1600</td>\n",
              "    </tr>\n",
              "    <tr>\n",
              "      <th>10</th>\n",
              "      <td>5</td>\n",
              "      <td>Googney</td>\n",
              "      <td>Tunez</td>\n",
              "      <td>18</td>\n",
              "      <td>Sales</td>\n",
              "      <td>1700</td>\n",
              "    </tr>\n",
              "    <tr>\n",
              "      <th>11</th>\n",
              "      <td>543</td>\n",
              "      <td>Bale</td>\n",
              "      <td>Pembe</td>\n",
              "      <td>18</td>\n",
              "      <td>Sales</td>\n",
              "      <td>1700</td>\n",
              "    </tr>\n",
              "    <tr>\n",
              "      <th>12</th>\n",
              "      <td>49</td>\n",
              "      <td>Bale</td>\n",
              "      <td>Lalupon</td>\n",
              "      <td>1</td>\n",
              "      <td>Finance</td>\n",
              "      <td>1500</td>\n",
              "    </tr>\n",
              "  </tbody>\n",
              "</table>\n",
              "</div>\n",
              "    <div class=\"colab-df-buttons\">\n",
              "\n",
              "  <div class=\"colab-df-container\">\n",
              "    <button class=\"colab-df-convert\" onclick=\"convertToInteractive('df-2110be08-45b2-40eb-970e-b15dbbd07e64')\"\n",
              "            title=\"Convert this dataframe to an interactive table.\"\n",
              "            style=\"display:none;\">\n",
              "\n",
              "  <svg xmlns=\"http://www.w3.org/2000/svg\" height=\"24px\" viewBox=\"0 -960 960 960\">\n",
              "    <path d=\"M120-120v-720h720v720H120Zm60-500h600v-160H180v160Zm220 220h160v-160H400v160Zm0 220h160v-160H400v160ZM180-400h160v-160H180v160Zm440 0h160v-160H620v160ZM180-180h160v-160H180v160Zm440 0h160v-160H620v160Z\"/>\n",
              "  </svg>\n",
              "    </button>\n",
              "\n",
              "  <style>\n",
              "    .colab-df-container {\n",
              "      display:flex;\n",
              "      gap: 12px;\n",
              "    }\n",
              "\n",
              "    .colab-df-convert {\n",
              "      background-color: #E8F0FE;\n",
              "      border: none;\n",
              "      border-radius: 50%;\n",
              "      cursor: pointer;\n",
              "      display: none;\n",
              "      fill: #1967D2;\n",
              "      height: 32px;\n",
              "      padding: 0 0 0 0;\n",
              "      width: 32px;\n",
              "    }\n",
              "\n",
              "    .colab-df-convert:hover {\n",
              "      background-color: #E2EBFA;\n",
              "      box-shadow: 0px 1px 2px rgba(60, 64, 67, 0.3), 0px 1px 3px 1px rgba(60, 64, 67, 0.15);\n",
              "      fill: #174EA6;\n",
              "    }\n",
              "\n",
              "    .colab-df-buttons div {\n",
              "      margin-bottom: 4px;\n",
              "    }\n",
              "\n",
              "    [theme=dark] .colab-df-convert {\n",
              "      background-color: #3B4455;\n",
              "      fill: #D2E3FC;\n",
              "    }\n",
              "\n",
              "    [theme=dark] .colab-df-convert:hover {\n",
              "      background-color: #434B5C;\n",
              "      box-shadow: 0px 1px 3px 1px rgba(0, 0, 0, 0.15);\n",
              "      filter: drop-shadow(0px 1px 2px rgba(0, 0, 0, 0.3));\n",
              "      fill: #FFFFFF;\n",
              "    }\n",
              "  </style>\n",
              "\n",
              "    <script>\n",
              "      const buttonEl =\n",
              "        document.querySelector('#df-2110be08-45b2-40eb-970e-b15dbbd07e64 button.colab-df-convert');\n",
              "      buttonEl.style.display =\n",
              "        google.colab.kernel.accessAllowed ? 'block' : 'none';\n",
              "\n",
              "      async function convertToInteractive(key) {\n",
              "        const element = document.querySelector('#df-2110be08-45b2-40eb-970e-b15dbbd07e64');\n",
              "        const dataTable =\n",
              "          await google.colab.kernel.invokeFunction('convertToInteractive',\n",
              "                                                    [key], {});\n",
              "        if (!dataTable) return;\n",
              "\n",
              "        const docLinkHtml = 'Like what you see? Visit the ' +\n",
              "          '<a target=\"_blank\" href=https://colab.research.google.com/notebooks/data_table.ipynb>data table notebook</a>'\n",
              "          + ' to learn more about interactive tables.';\n",
              "        element.innerHTML = '';\n",
              "        dataTable['output_type'] = 'display_data';\n",
              "        await google.colab.output.renderOutput(dataTable, element);\n",
              "        const docLink = document.createElement('div');\n",
              "        docLink.innerHTML = docLinkHtml;\n",
              "        element.appendChild(docLink);\n",
              "      }\n",
              "    </script>\n",
              "  </div>\n",
              "\n",
              "\n",
              "<div id=\"df-b582e49d-c3e4-4b44-a500-5fc84c319e07\">\n",
              "  <button class=\"colab-df-quickchart\" onclick=\"quickchart('df-b582e49d-c3e4-4b44-a500-5fc84c319e07')\"\n",
              "            title=\"Suggest charts\"\n",
              "            style=\"display:none;\">\n",
              "\n",
              "<svg xmlns=\"http://www.w3.org/2000/svg\" height=\"24px\"viewBox=\"0 0 24 24\"\n",
              "     width=\"24px\">\n",
              "    <g>\n",
              "        <path d=\"M19 3H5c-1.1 0-2 .9-2 2v14c0 1.1.9 2 2 2h14c1.1 0 2-.9 2-2V5c0-1.1-.9-2-2-2zM9 17H7v-7h2v7zm4 0h-2V7h2v10zm4 0h-2v-4h2v4z\"/>\n",
              "    </g>\n",
              "</svg>\n",
              "  </button>\n",
              "\n",
              "<style>\n",
              "  .colab-df-quickchart {\n",
              "      --bg-color: #E8F0FE;\n",
              "      --fill-color: #1967D2;\n",
              "      --hover-bg-color: #E2EBFA;\n",
              "      --hover-fill-color: #174EA6;\n",
              "      --disabled-fill-color: #AAA;\n",
              "      --disabled-bg-color: #DDD;\n",
              "  }\n",
              "\n",
              "  [theme=dark] .colab-df-quickchart {\n",
              "      --bg-color: #3B4455;\n",
              "      --fill-color: #D2E3FC;\n",
              "      --hover-bg-color: #434B5C;\n",
              "      --hover-fill-color: #FFFFFF;\n",
              "      --disabled-bg-color: #3B4455;\n",
              "      --disabled-fill-color: #666;\n",
              "  }\n",
              "\n",
              "  .colab-df-quickchart {\n",
              "    background-color: var(--bg-color);\n",
              "    border: none;\n",
              "    border-radius: 50%;\n",
              "    cursor: pointer;\n",
              "    display: none;\n",
              "    fill: var(--fill-color);\n",
              "    height: 32px;\n",
              "    padding: 0;\n",
              "    width: 32px;\n",
              "  }\n",
              "\n",
              "  .colab-df-quickchart:hover {\n",
              "    background-color: var(--hover-bg-color);\n",
              "    box-shadow: 0 1px 2px rgba(60, 64, 67, 0.3), 0 1px 3px 1px rgba(60, 64, 67, 0.15);\n",
              "    fill: var(--button-hover-fill-color);\n",
              "  }\n",
              "\n",
              "  .colab-df-quickchart-complete:disabled,\n",
              "  .colab-df-quickchart-complete:disabled:hover {\n",
              "    background-color: var(--disabled-bg-color);\n",
              "    fill: var(--disabled-fill-color);\n",
              "    box-shadow: none;\n",
              "  }\n",
              "\n",
              "  .colab-df-spinner {\n",
              "    border: 2px solid var(--fill-color);\n",
              "    border-color: transparent;\n",
              "    border-bottom-color: var(--fill-color);\n",
              "    animation:\n",
              "      spin 1s steps(1) infinite;\n",
              "  }\n",
              "\n",
              "  @keyframes spin {\n",
              "    0% {\n",
              "      border-color: transparent;\n",
              "      border-bottom-color: var(--fill-color);\n",
              "      border-left-color: var(--fill-color);\n",
              "    }\n",
              "    20% {\n",
              "      border-color: transparent;\n",
              "      border-left-color: var(--fill-color);\n",
              "      border-top-color: var(--fill-color);\n",
              "    }\n",
              "    30% {\n",
              "      border-color: transparent;\n",
              "      border-left-color: var(--fill-color);\n",
              "      border-top-color: var(--fill-color);\n",
              "      border-right-color: var(--fill-color);\n",
              "    }\n",
              "    40% {\n",
              "      border-color: transparent;\n",
              "      border-right-color: var(--fill-color);\n",
              "      border-top-color: var(--fill-color);\n",
              "    }\n",
              "    60% {\n",
              "      border-color: transparent;\n",
              "      border-right-color: var(--fill-color);\n",
              "    }\n",
              "    80% {\n",
              "      border-color: transparent;\n",
              "      border-right-color: var(--fill-color);\n",
              "      border-bottom-color: var(--fill-color);\n",
              "    }\n",
              "    90% {\n",
              "      border-color: transparent;\n",
              "      border-bottom-color: var(--fill-color);\n",
              "    }\n",
              "  }\n",
              "</style>\n",
              "\n",
              "  <script>\n",
              "    async function quickchart(key) {\n",
              "      const quickchartButtonEl =\n",
              "        document.querySelector('#' + key + ' button');\n",
              "      quickchartButtonEl.disabled = true;  // To prevent multiple clicks.\n",
              "      quickchartButtonEl.classList.add('colab-df-spinner');\n",
              "      try {\n",
              "        const charts = await google.colab.kernel.invokeFunction(\n",
              "            'suggestCharts', [key], {});\n",
              "      } catch (error) {\n",
              "        console.error('Error during call to suggestCharts:', error);\n",
              "      }\n",
              "      quickchartButtonEl.classList.remove('colab-df-spinner');\n",
              "      quickchartButtonEl.classList.add('colab-df-quickchart-complete');\n",
              "    }\n",
              "    (() => {\n",
              "      let quickchartButtonEl =\n",
              "        document.querySelector('#df-b582e49d-c3e4-4b44-a500-5fc84c319e07 button');\n",
              "      quickchartButtonEl.style.display =\n",
              "        google.colab.kernel.accessAllowed ? 'block' : 'none';\n",
              "    })();\n",
              "  </script>\n",
              "</div>\n",
              "    </div>\n",
              "  </div>\n"
            ]
          },
          "metadata": {},
          "execution_count": 17
        }
      ]
    },
    {
      "cell_type": "code",
      "source": [
        "# Count the number of employees in each department\n",
        "department_counts = df_employees['DepartmentName'].value_counts()\n",
        "\n",
        "labels = department_counts.index\n",
        "sizes = department_counts.values\n",
        "explode = (0.1, 0, 0, 0)  # Explode the first slice for better visibility, adjust as needed\n",
        "\n",
        "plt.pie(sizes, labels=labels, explode=explode, autopct='%1.1f%%', startangle=140)\n",
        "plt.axis('equal')  # Equal aspect ratio ensures that pie is drawn as a circle.\n",
        "\n",
        "# Title for the pie chart\n",
        "plt.title('Proportion of Staff by Department')\n",
        "\n",
        "# Show the pie chart\n",
        "plt.show()"
      ],
      "metadata": {
        "colab": {
          "base_uri": "https://localhost:8080/",
          "height": 428
        },
        "id": "liRA_gBGWCdG",
        "outputId": "74e0e99c-ae92-4483-908d-70692105ff0c"
      },
      "execution_count": 18,
      "outputs": [
        {
          "output_type": "display_data",
          "data": {
            "text/plain": [
              "<Figure size 640x480 with 1 Axes>"
            ],
            "image/png": "[encoded data removed]"
          },
          "metadata": {}
        }
      ]
    },
    {
      "cell_type": "markdown",
      "source": [
        "**Plot a scatter chart to show thesalary distribution.**"
      ],
      "metadata": {
        "id": "FwC53hCez2PL"
      }
    },
    {
      "cell_type": "code",
      "source": [
        "# Scatter plot\n",
        "plt.scatter(df_employees['SSN'], df_employees['Salary'], alpha=0.5)\n",
        "\n",
        "# Labels and title\n",
        "plt.xlabel('SSN')\n",
        "plt.ylabel('Salary')\n",
        "plt.title('Salary Distribution')\n",
        "\n",
        "# Show the scatter plot\n",
        "plt.show()"
      ],
      "metadata": {
        "id": "KGuWTQt6z4Q2",
        "colab": {
          "base_uri": "https://localhost:8080/",
          "height": 472
        },
        "outputId": "071c9c09-9995-43bf-d47c-1aae7bed6a87"
      },
      "execution_count": 19,
      "outputs": [
        {
          "output_type": "display_data",
          "data": {
            "text/plain": [
              "<Figure size 640x480 with 1 Axes>"
            ],
            "image/png": "[encoded data removed]"
          },
          "metadata": {}
        }
      ]
    },
    {
      "cell_type": "markdown",
      "source": [
        "## **James Bund a Data administrator made a bluder because he didn't like a member of staff (Bale Lalupon) and he excluded their  details from the Salaries database as because of this. He was later found out and exited from the organization. What did he do to achieve this?**"
      ],
      "metadata": {
        "id": "_nFDrBzhwV1a"
      }
    },
    {
      "cell_type": "code",
      "source": [
        "#This code deletes an entry from the Employees table.\n",
        "conn = sqlite3.connect('test.db')\n",
        "delete_bale_query = \"DELETE FROM Employees WHERE SSN = 49;\"\n",
        "conn.execute(delete_bale_query)\n",
        "conn.commit()\n",
        "\n"
      ],
      "metadata": {
        "id": "CXV5UN28xYPu"
      },
      "execution_count": 20,
      "outputs": []
    },
    {
      "cell_type": "code",
      "source": [
        "#Here we see the result of the deletion made\n",
        "cursor = conn.execute('''\n",
        "  Select * FROM Employees;\n",
        "  ''')\n",
        "\n",
        "for row in cursor:\n",
        "  print (row)\n",
        "\n"
      ],
      "metadata": {
        "colab": {
          "base_uri": "https://localhost:8080/"
        },
        "id": "0tLKd2JeVc9N",
        "outputId": "67811d03-3e04-4a65-af3b-3e17cd4840f5"
      },
      "execution_count": 21,
      "outputs": [
        {
          "output_type": "stream",
          "name": "stdout",
          "text": [
            "(3, 'Faith', 'Pembe', 14, 'IT', 1500)\n",
            "(10, 'Joy', 'Sasha', 1, 'Finance', 1300)\n",
            "(7, 'Plain', 'Smart', 14, 'IT', 1700)\n",
            "(4, 'Hush', 'Baby', 18, 'Sales', 1200)\n",
            "(11, 'Given', 'Vibes', 18, 'Sales', 1400)\n",
            "(6, 'Lovely', 'Daise', 8, 'Human Capital', 1500)\n",
            "(15, 'James', 'Bund', 14, 'IT', 1500)\n",
            "(8, 'Josh', 'Tufune', 1, 'Finance', 1700)\n",
            "(76, 'Gayme', 'Tymz', 1, 'Finance', 1900)\n",
            "(2, 'Funny', 'Bonez', 8, 'Human Capital', 1600)\n",
            "(5, 'Googney', 'Tunez', 18, 'Sales', 1700)\n",
            "(543, 'Bale', 'Pembe', 18, 'Sales', 1700)\n"
          ]
        }
      ]
    },
    {
      "cell_type": "markdown",
      "source": [
        "***Two weeks later, a new staff was recruited to fill James space. Her name is Julie Shanks. She was going to be paid 2000.00 due to her years of experience. One of the first things she needed to do was? ***\n",
        "\n",
        "1. Delete James profile from the database.\n",
        "2. Re-add Bale Lalupon to the database.\n",
        "3. Add herself to the database.\n",
        "\n",
        "***What would she have done? ***"
      ],
      "metadata": {
        "id": "QIKxsvqqxZl1"
      }
    },
    {
      "cell_type": "code",
      "source": [
        "# Julie delets James Bund from the database here\n",
        "delete_James = \"DELETE FROM Employees where SSN = 15;\"\n",
        "conn.execute(delete_James)\n",
        "conn.commit()\n",
        "\n",
        "\n",
        "# Julie re-adds Bale Lalupon to the database\n",
        "re_add_Lalupon = \"INSERT INTO Employees (SSN, FirstName, LastName, DepartmentCode, DepartmentName, Salary) VALUES('0053', 'Bale', 'Lalupon', 01, 'Finance', 1500);\"\n",
        "conn.execute(re_add_Lalupon)\n",
        "conn.commit()\n",
        "\n",
        "#Julie re-adds her self to the database\n",
        "add_Julie_Shanks = \"INSERT INTO Employees (SSN, FirstName, LastName, DepartmentCode, DepartmentName, Salary) VALUES('0765', 'Julie', 'Shanks', 18, 'IT', 2000);\"\n",
        "conn.execute(add_Julie_Shanks)\n",
        "conn.commit()\n",
        "\n",
        "\n"
      ],
      "metadata": {
        "id": "awzIOzS00az1"
      },
      "execution_count": 22,
      "outputs": []
    },
    {
      "cell_type": "code",
      "source": [
        "#Calling up the employess table to see our result\n",
        "\n",
        "Updated_DB_df = pd.read_sql (\"Select * FROM Employees\", conn)\n",
        "Updated_DB_df"
      ],
      "metadata": {
        "colab": {
          "base_uri": "https://localhost:8080/",
          "height": 457
        },
        "id": "oBi1ZHzQfSDm",
        "outputId": "998a4211-7d65-427b-b79b-372893acb532"
      },
      "execution_count": 23,
      "outputs": [
        {
          "output_type": "execute_result",
          "data": {
            "text/plain": [
              "    SSN FirstName LastName  DepartmentCode DepartmentName  Salary\n",
              "0     3     Faith    Pembe              14             IT    1500\n",
              "1    10       Joy    Sasha               1        Finance    1300\n",
              "2     7     Plain    Smart              14             IT    1700\n",
              "3     4      Hush     Baby              18          Sales    1200\n",
              "4    11     Given    Vibes              18          Sales    1400\n",
              "5     6    Lovely    Daise               8  Human Capital    1500\n",
              "6     8      Josh   Tufune               1        Finance    1700\n",
              "7    76     Gayme     Tymz               1        Finance    1900\n",
              "8     2     Funny    Bonez               8  Human Capital    1600\n",
              "9     5   Googney    Tunez              18          Sales    1700\n",
              "10  543      Bale    Pembe              18          Sales    1700\n",
              "11   53      Bale  Lalupon               1        Finance    1500\n",
              "12  765     Julie   Shanks              18             IT    2000"
            ],
            "text/html": [
              "\n",
              "  <div id=\"df-26775091-6522-409d-8290-1990fb19f8bd\" class=\"colab-df-container\">\n",
              "    <div>\n",
              "<style scoped>\n",
              "    .dataframe tbody tr th:only-of-type {\n",
              "        vertical-align: middle;\n",
              "    }\n",
              "\n",
              "    .dataframe tbody tr th {\n",
              "        vertical-align: top;\n",
              "    }\n",
              "\n",
              "    .dataframe thead th {\n",
              "        text-align: right;\n",
              "    }\n",
              "</style>\n",
              "<table border=\"1\" class=\"dataframe\">\n",
              "  <thead>\n",
              "    <tr style=\"text-align: right;\">\n",
              "      <th></th>\n",
              "      <th>SSN</th>\n",
              "      <th>FirstName</th>\n",
              "      <th>LastName</th>\n",
              "      <th>DepartmentCode</th>\n",
              "      <th>DepartmentName</th>\n",
              "      <th>Salary</th>\n",
              "    </tr>\n",
              "  </thead>\n",
              "  <tbody>\n",
              "    <tr>\n",
              "      <th>0</th>\n",
              "      <td>3</td>\n",
              "      <td>Faith</td>\n",
              "      <td>Pembe</td>\n",
              "      <td>14</td>\n",
              "      <td>IT</td>\n",
              "      <td>1500</td>\n",
              "    </tr>\n",
              "    <tr>\n",
              "      <th>1</th>\n",
              "      <td>10</td>\n",
              "      <td>Joy</td>\n",
              "      <td>Sasha</td>\n",
              "      <td>1</td>\n",
              "      <td>Finance</td>\n",
              "      <td>1300</td>\n",
              "    </tr>\n",
              "    <tr>\n",
              "      <th>2</th>\n",
              "      <td>7</td>\n",
              "      <td>Plain</td>\n",
              "      <td>Smart</td>\n",
              "      <td>14</td>\n",
              "      <td>IT</td>\n",
              "      <td>1700</td>\n",
              "    </tr>\n",
              "    <tr>\n",
              "      <th>3</th>\n",
              "      <td>4</td>\n",
              "      <td>Hush</td>\n",
              "      <td>Baby</td>\n",
              "      <td>18</td>\n",
              "      <td>Sales</td>\n",
              "      <td>1200</td>\n",
              "    </tr>\n",
              "    <tr>\n",
              "      <th>4</th>\n",
              "      <td>11</td>\n",
              "      <td>Given</td>\n",
              "      <td>Vibes</td>\n",
              "      <td>18</td>\n",
              "      <td>Sales</td>\n",
              "      <td>1400</td>\n",
              "    </tr>\n",
              "    <tr>\n",
              "      <th>5</th>\n",
              "      <td>6</td>\n",
              "      <td>Lovely</td>\n",
              "      <td>Daise</td>\n",
              "      <td>8</td>\n",
              "      <td>Human Capital</td>\n",
              "      <td>1500</td>\n",
              "    </tr>\n",
              "    <tr>\n",
              "      <th>6</th>\n",
              "      <td>8</td>\n",
              "      <td>Josh</td>\n",
              "      <td>Tufune</td>\n",
              "      <td>1</td>\n",
              "      <td>Finance</td>\n",
              "      <td>1700</td>\n",
              "    </tr>\n",
              "    <tr>\n",
              "      <th>7</th>\n",
              "      <td>76</td>\n",
              "      <td>Gayme</td>\n",
              "      <td>Tymz</td>\n",
              "      <td>1</td>\n",
              "      <td>Finance</td>\n",
              "      <td>1900</td>\n",
              "    </tr>\n",
              "    <tr>\n",
              "      <th>8</th>\n",
              "      <td>2</td>\n",
              "      <td>Funny</td>\n",
              "      <td>Bonez</td>\n",
              "      <td>8</td>\n",
              "      <td>Human Capital</td>\n",
              "      <td>1600</td>\n",
              "    </tr>\n",
              "    <tr>\n",
              "      <th>9</th>\n",
              "      <td>5</td>\n",
              "      <td>Googney</td>\n",
              "      <td>Tunez</td>\n",
              "      <td>18</td>\n",
              "      <td>Sales</td>\n",
              "      <td>1700</td>\n",
              "    </tr>\n",
              "    <tr>\n",
              "      <th>10</th>\n",
              "      <td>543</td>\n",
              "      <td>Bale</td>\n",
              "      <td>Pembe</td>\n",
              "      <td>18</td>\n",
              "      <td>Sales</td>\n",
              "      <td>1700</td>\n",
              "    </tr>\n",
              "    <tr>\n",
              "      <th>11</th>\n",
              "      <td>53</td>\n",
              "      <td>Bale</td>\n",
              "      <td>Lalupon</td>\n",
              "      <td>1</td>\n",
              "      <td>Finance</td>\n",
              "      <td>1500</td>\n",
              "    </tr>\n",
              "    <tr>\n",
              "      <th>12</th>\n",
              "      <td>765</td>\n",
              "      <td>Julie</td>\n",
              "      <td>Shanks</td>\n",
              "      <td>18</td>\n",
              "      <td>IT</td>\n",
              "      <td>2000</td>\n",
              "    </tr>\n",
              "  </tbody>\n",
              "</table>\n",
              "</div>\n",
              "    <div class=\"colab-df-buttons\">\n",
              "\n",
              "  <div class=\"colab-df-container\">\n",
              "    <button class=\"colab-df-convert\" onclick=\"convertToInteractive('df-26775091-6522-409d-8290-1990fb19f8bd')\"\n",
              "            title=\"Convert this dataframe to an interactive table.\"\n",
              "            style=\"display:none;\">\n",
              "\n",
              "  <svg xmlns=\"http://www.w3.org/2000/svg\" height=\"24px\" viewBox=\"0 -960 960 960\">\n",
              "    <path d=\"M120-120v-720h720v720H120Zm60-500h600v-160H180v160Zm220 220h160v-160H400v160Zm0 220h160v-160H400v160ZM180-400h160v-160H180v160Zm440 0h160v-160H620v160ZM180-180h160v-160H180v160Zm440 0h160v-160H620v160Z\"/>\n",
              "  </svg>\n",
              "    </button>\n",
              "\n",
              "  <style>\n",
              "    .colab-df-container {\n",
              "      display:flex;\n",
              "      gap: 12px;\n",
              "    }\n",
              "\n",
              "    .colab-df-convert {\n",
              "      background-color: #E8F0FE;\n",
              "      border: none;\n",
              "      border-radius: 50%;\n",
              "      cursor: pointer;\n",
              "      display: none;\n",
              "      fill: #1967D2;\n",
              "      height: 32px;\n",
              "      padding: 0 0 0 0;\n",
              "      width: 32px;\n",
              "    }\n",
              "\n",
              "    .colab-df-convert:hover {\n",
              "      background-color: #E2EBFA;\n",
              "      box-shadow: 0px 1px 2px rgba(60, 64, 67, 0.3), 0px 1px 3px 1px rgba(60, 64, 67, 0.15);\n",
              "      fill: #174EA6;\n",
              "    }\n",
              "\n",
              "    .colab-df-buttons div {\n",
              "      margin-bottom: 4px;\n",
              "    }\n",
              "\n",
              "    [theme=dark] .colab-df-convert {\n",
              "      background-color: #3B4455;\n",
              "      fill: #D2E3FC;\n",
              "    }\n",
              "\n",
              "    [theme=dark] .colab-df-convert:hover {\n",
              "      background-color: #434B5C;\n",
              "      box-shadow: 0px 1px 3px 1px rgba(0, 0, 0, 0.15);\n",
              "      filter: drop-shadow(0px 1px 2px rgba(0, 0, 0, 0.3));\n",
              "      fill: #FFFFFF;\n",
              "    }\n",
              "  </style>\n",
              "\n",
              "    <script>\n",
              "      const buttonEl =\n",
              "        document.querySelector('#df-26775091-6522-409d-8290-1990fb19f8bd button.colab-df-convert');\n",
              "      buttonEl.style.display =\n",
              "        google.colab.kernel.accessAllowed ? 'block' : 'none';\n",
              "\n",
              "      async function convertToInteractive(key) {\n",
              "        const element = document.querySelector('#df-26775091-6522-409d-8290-1990fb19f8bd');\n",
              "        const dataTable =\n",
              "          await google.colab.kernel.invokeFunction('convertToInteractive',\n",
              "                                                    [key], {});\n",
              "        if (!dataTable) return;\n",
              "\n",
              "        const docLinkHtml = 'Like what you see? Visit the ' +\n",
              "          '<a target=\"_blank\" href=https://colab.research.google.com/notebooks/data_table.ipynb>data table notebook</a>'\n",
              "          + ' to learn more about interactive tables.';\n",
              "        element.innerHTML = '';\n",
              "        dataTable['output_type'] = 'display_data';\n",
              "        await google.colab.output.renderOutput(dataTable, element);\n",
              "        const docLink = document.createElement('div');\n",
              "        docLink.innerHTML = docLinkHtml;\n",
              "        element.appendChild(docLink);\n",
              "      }\n",
              "    </script>\n",
              "  </div>\n",
              "\n",
              "\n",
              "<div id=\"df-2ca4b314-d8df-459f-84f6-4dca95b7ae17\">\n",
              "  <button class=\"colab-df-quickchart\" onclick=\"quickchart('df-2ca4b314-d8df-459f-84f6-4dca95b7ae17')\"\n",
              "            title=\"Suggest charts\"\n",
              "            style=\"display:none;\">\n",
              "\n",
              "<svg xmlns=\"http://www.w3.org/2000/svg\" height=\"24px\"viewBox=\"0 0 24 24\"\n",
              "     width=\"24px\">\n",
              "    <g>\n",
              "        <path d=\"M19 3H5c-1.1 0-2 .9-2 2v14c0 1.1.9 2 2 2h14c1.1 0 2-.9 2-2V5c0-1.1-.9-2-2-2zM9 17H7v-7h2v7zm4 0h-2V7h2v10zm4 0h-2v-4h2v4z\"/>\n",
              "    </g>\n",
              "</svg>\n",
              "  </button>\n",
              "\n",
              "<style>\n",
              "  .colab-df-quickchart {\n",
              "      --bg-color: #E8F0FE;\n",
              "      --fill-color: #1967D2;\n",
              "      --hover-bg-color: #E2EBFA;\n",
              "      --hover-fill-color: #174EA6;\n",
              "      --disabled-fill-color: #AAA;\n",
              "      --disabled-bg-color: #DDD;\n",
              "  }\n",
              "\n",
              "  [theme=dark] .colab-df-quickchart {\n",
              "      --bg-color: #3B4455;\n",
              "      --fill-color: #D2E3FC;\n",
              "      --hover-bg-color: #434B5C;\n",
              "      --hover-fill-color: #FFFFFF;\n",
              "      --disabled-bg-color: #3B4455;\n",
              "      --disabled-fill-color: #666;\n",
              "  }\n",
              "\n",
              "  .colab-df-quickchart {\n",
              "    background-color: var(--bg-color);\n",
              "    border: none;\n",
              "    border-radius: 50%;\n",
              "    cursor: pointer;\n",
              "    display: none;\n",
              "    fill: var(--fill-color);\n",
              "    height: 32px;\n",
              "    padding: 0;\n",
              "    width: 32px;\n",
              "  }\n",
              "\n",
              "  .colab-df-quickchart:hover {\n",
              "    background-color: var(--hover-bg-color);\n",
              "    box-shadow: 0 1px 2px rgba(60, 64, 67, 0.3), 0 1px 3px 1px rgba(60, 64, 67, 0.15);\n",
              "    fill: var(--button-hover-fill-color);\n",
              "  }\n",
              "\n",
              "  .colab-df-quickchart-complete:disabled,\n",
              "  .colab-df-quickchart-complete:disabled:hover {\n",
              "    background-color: var(--disabled-bg-color);\n",
              "    fill: var(--disabled-fill-color);\n",
              "    box-shadow: none;\n",
              "  }\n",
              "\n",
              "  .colab-df-spinner {\n",
              "    border: 2px solid var(--fill-color);\n",
              "    border-color: transparent;\n",
              "    border-bottom-color: var(--fill-color);\n",
              "    animation:\n",
              "      spin 1s steps(1) infinite;\n",
              "  }\n",
              "\n",
              "  @keyframes spin {\n",
              "    0% {\n",
              "      border-color: transparent;\n",
              "      border-bottom-color: var(--fill-color);\n",
              "      border-left-color: var(--fill-color);\n",
              "    }\n",
              "    20% {\n",
              "      border-color: transparent;\n",
              "      border-left-color: var(--fill-color);\n",
              "      border-top-color: var(--fill-color);\n",
              "    }\n",
              "    30% {\n",
              "      border-color: transparent;\n",
              "      border-left-color: var(--fill-color);\n",
              "      border-top-color: var(--fill-color);\n",
              "      border-right-color: var(--fill-color);\n",
              "    }\n",
              "    40% {\n",
              "      border-color: transparent;\n",
              "      border-right-color: var(--fill-color);\n",
              "      border-top-color: var(--fill-color);\n",
              "    }\n",
              "    60% {\n",
              "      border-color: transparent;\n",
              "      border-right-color: var(--fill-color);\n",
              "    }\n",
              "    80% {\n",
              "      border-color: transparent;\n",
              "      border-right-color: var(--fill-color);\n",
              "      border-bottom-color: var(--fill-color);\n",
              "    }\n",
              "    90% {\n",
              "      border-color: transparent;\n",
              "      border-bottom-color: var(--fill-color);\n",
              "    }\n",
              "  }\n",
              "</style>\n",
              "\n",
              "  <script>\n",
              "    async function quickchart(key) {\n",
              "      const quickchartButtonEl =\n",
              "        document.querySelector('#' + key + ' button');\n",
              "      quickchartButtonEl.disabled = true;  // To prevent multiple clicks.\n",
              "      quickchartButtonEl.classList.add('colab-df-spinner');\n",
              "      try {\n",
              "        const charts = await google.colab.kernel.invokeFunction(\n",
              "            'suggestCharts', [key], {});\n",
              "      } catch (error) {\n",
              "        console.error('Error during call to suggestCharts:', error);\n",
              "      }\n",
              "      quickchartButtonEl.classList.remove('colab-df-spinner');\n",
              "      quickchartButtonEl.classList.add('colab-df-quickchart-complete');\n",
              "    }\n",
              "    (() => {\n",
              "      let quickchartButtonEl =\n",
              "        document.querySelector('#df-2ca4b314-d8df-459f-84f6-4dca95b7ae17 button');\n",
              "      quickchartButtonEl.style.display =\n",
              "        google.colab.kernel.accessAllowed ? 'block' : 'none';\n",
              "    })();\n",
              "  </script>\n",
              "</div>\n",
              "    </div>\n",
              "  </div>\n"
            ]
          },
          "metadata": {},
          "execution_count": 23
        }
      ]
    },
    {
      "cell_type": "code",
      "source": [],
      "metadata": {
        "id": "JYwl8BZmox5a"
      },
      "execution_count": 23,
      "outputs": []
    }
  ]
}