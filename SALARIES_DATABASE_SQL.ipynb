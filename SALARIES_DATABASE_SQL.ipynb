{
  "nbformat": 4,
  "nbformat_minor": 0,
  "metadata": {
    "colab": {
      "provenance": [],
      "authorship_tag": "ABX9TyPkJLMxbLpXBtGCGC6W6X1G",
      "include_colab_link": true
    },
    "kernelspec": {
      "name": "python3",
      "display_name": "Python 3"
    },
    "language_info": {
      "name": "python"
    }
  },
  "cells": [
    {
      "cell_type": "markdown",
      "metadata": {
        "id": "view-in-github",
        "colab_type": "text"
      },
      "source": [
        "<a href=\"https://colab.research.google.com/github/Korey01/Korey01/blob/main/SALARIES_DATABASE_SQL.ipynb\" target=\"_parent\"><img src=\"https://colab.research.google.com/assets/colab-badge.svg\" alt=\"Open In Colab\"/></a>"
      ]
    },
    {
      "cell_type": "code",
      "execution_count": 107,
      "metadata": {
        "id": "7RIqTrkvdlw0"
      },
      "outputs": [],
      "source": [
        "import numpy as np\n",
        "import pandas as pd\n",
        "import matplotlib.pyplot as plt\n",
        "import sqlite3\n",
        "conn = sqlite3.connect('test.db')\n",
        "import sqlalchemy"
      ]
    },
    {
      "cell_type": "code",
      "source": [
        "#CREATING TABLES\n",
        "conn.execute('''\n",
        "  CREATE TABLE Departments(\n",
        "      Code INTEGAR PRIMARY KEY NOT NULL,\n",
        "      Name NVARCHAR NOT NULL,\n",
        "      Budget REAL NOT NULL\n",
        "  );'''\n",
        ")\n",
        "conn.commit()\n",
        "print('Departments Table created')"
      ],
      "metadata": {
        "colab": {
          "base_uri": "https://localhost:8080/",
          "height": 245
        },
        "id": "q_xa0x5ydn5L",
        "outputId": "7031362e-9787-48b6-8f24-8574e0b84653"
      },
      "execution_count": 97,
      "outputs": [
        {
          "output_type": "error",
          "ename": "OperationalError",
          "evalue": "ignored",
          "traceback": [
            "\u001b[0;31m---------------------------------------------------------------------------\u001b[0m",
            "\u001b[0;31mOperationalError\u001b[0m                          Traceback (most recent call last)",
            "\u001b[0;32m<ipython-input-97-b83c2d9c5fee>\u001b[0m in \u001b[0;36m<cell line: 2>\u001b[0;34m()\u001b[0m\n\u001b[1;32m      1\u001b[0m \u001b[0;31m#CREATING TABLES\u001b[0m\u001b[0;34m\u001b[0m\u001b[0;34m\u001b[0m\u001b[0m\n\u001b[0;32m----> 2\u001b[0;31m conn.execute('''\n\u001b[0m\u001b[1;32m      3\u001b[0m   CREATE TABLE Departments(\n\u001b[1;32m      4\u001b[0m       \u001b[0mCode\u001b[0m \u001b[0mINTEGAR\u001b[0m \u001b[0mPRIMARY\u001b[0m \u001b[0mKEY\u001b[0m \u001b[0mNOT\u001b[0m \u001b[0mNULL\u001b[0m\u001b[0;34m,\u001b[0m\u001b[0;34m\u001b[0m\u001b[0;34m\u001b[0m\u001b[0m\n\u001b[1;32m      5\u001b[0m       \u001b[0mName\u001b[0m \u001b[0mNVARCHAR\u001b[0m \u001b[0mNOT\u001b[0m \u001b[0mNULL\u001b[0m\u001b[0;34m,\u001b[0m\u001b[0;34m\u001b[0m\u001b[0;34m\u001b[0m\u001b[0m\n",
            "\u001b[0;31mOperationalError\u001b[0m: table Departments already exists"
          ]
        }
      ]
    },
    {
      "cell_type": "code",
      "source": [
        "\n",
        "#CREATING TABLES\n",
        "conn.execute('''\n",
        "  CREATE TABLE Employees(\n",
        "    SSN INTEGAR PRIMARY KEY NOT NULL,\n",
        "    Name TEXT NOT NULL,\n",
        "    LastName NVARCHAR NOT NULL,\n",
        "    Department INTEGAR NOT NULL,\n",
        "    Salary INTEGAR NOT NULL,\n",
        "    CONSTRAINT fk_Departments_Code FOREIGN KEY(Department)\n",
        "  REFERENCES Departments(Code)\n",
        "\n",
        "  ); '''\n",
        ")\n",
        "conn.commit()\n",
        "print('Employees Table Created')"
      ],
      "metadata": {
        "colab": {
          "base_uri": "https://localhost:8080/"
        },
        "id": "8OeTzkxvd2Mv",
        "outputId": "10a0eee1-c553-4aca-853e-d2568eddd907"
      },
      "execution_count": 7,
      "outputs": [
        {
          "output_type": "stream",
          "name": "stdout",
          "text": [
            "Employees Table Created\n"
          ]
        }
      ]
    },
    {
      "cell_type": "code",
      "source": [
        "conn.execute(\"INSERT INTO Departments(Code, Name, Budget) VALUES(14, 'IT', 65000);\")\n",
        "conn.execute(\"INSERT INTO Departments(Code, Name, Budget) VALUES(01, 'Finance', 55000);\")\n",
        "conn.execute(\"INSERT INTO Departments(Code, Name, Budget) VALUES(08, 'HUman Capital', 45000);\")\n",
        "conn.execute(\"INSERT INTO Departments(Code, Name, Budget) VALUES(18, 'Sales', 50000);\")"
      ],
      "metadata": {
        "colab": {
          "base_uri": "https://localhost:8080/"
        },
        "id": "py9f3zzXd2QG",
        "outputId": "4022701c-04da-44ec-b362-047b47ab35d2"
      },
      "execution_count": 10,
      "outputs": [
        {
          "output_type": "execute_result",
          "data": {
            "text/plain": [
              "<sqlite3.Cursor at 0x7a30d1ff3cc0>"
            ]
          },
          "metadata": {},
          "execution_count": 10
        }
      ]
    },
    {
      "cell_type": "code",
      "source": [],
      "metadata": {
        "id": "48cO1773qjiX"
      },
      "execution_count": null,
      "outputs": []
    },
    {
      "cell_type": "code",
      "source": [
        "conn.execute(\"INSERT INTO Employees(SSN, Name, LastName, Department, Salary) VALUES('0003', 'Faith', 'Pembe', 14, 1500);\")\n",
        "conn.execute(\"INSERT INTO Employees(SSN, Name, LastName, Department, Salary) VALUES('0010', 'Joy', 'Sasha', 01, 1300);\")\n",
        "conn.execute(\"INSERT INTO Employees(SSN, Name, LastName, Department, Salary) VALUES('0007', 'Plain', 'Smart', 14, 1700);\")\n",
        "conn.execute(\"INSERT INTO Employees(SSN, Name, LastName, Department, Salary) VALUES('0004', 'Hush', 'Baby', 18, 1200);\")\n",
        "conn.execute(\"INSERT INTO Employees(SSN, Name, LastName, Department, Salary) VALUES('0011', 'Given', 'Vibes', 18, 1400);\")\n",
        "conn.execute(\"INSERT INTO Employees(SSN, Name, LastName, Department, Salary) VALUES('0006', 'Lovely', 'Daise', 08, 1500);\")\n",
        "conn.execute(\"INSERT INTO Employees(SSN, Name, LastName, Department, Salary) VALUES('0015', 'James', 'Bund', 14, 1500);\")\n",
        "conn.execute(\"INSERT INTO Employees(SSN, Name, LastName, Department, Salary) VALUES('0008', 'Josh', 'Tufune', 01, 1700);\")\n",
        "conn.execute(\"INSERT INTO Employees(SSN, Name, LastName, Department, Salary) VALUES('0076', 'Gayme', 'Tymz', 01, 1900);\")\n",
        "conn.execute(\"INSERT INTO Employees(SSN, Name, LastName, Department, Salary) VALUES('0002', 'Funny', 'Bonez', 08, 1600);\")\n",
        "conn.execute(\"INSERT INTO Employees(SSN, Name, LastName, Department, Salary) VALUES('0005', 'Googney', 'Tunez', 18, 1700);\")\n",
        "conn.execute(\"INSERT INTO Employees(SSN, Name, LastName, Department, Salary) VALUES('0543', 'Bale', 'Pembe', 18, 1700);\")\n",
        "conn.execute(\"INSERT INTO Employees(SSN, Name, LastName, Department, Salary) VALUES('0049', 'Bale', 'Lalupon', 01, 1500);\")\n",
        "conn.commit()"
      ],
      "metadata": {
        "id": "q7diM9NWd2TN"
      },
      "execution_count": 11,
      "outputs": []
    },
    {
      "cell_type": "code",
      "source": [
        "\n",
        "conn = sqlite3.connect('test.db')\n",
        "cursor = conn.execute(''' SELECT * FROM Departments''')\n",
        "for row in cursor:\n",
        "  print(row)"
      ],
      "metadata": {
        "colab": {
          "base_uri": "https://localhost:8080/"
        },
        "id": "rnZFhs6vd2Wp",
        "outputId": "eec09ec4-8bca-4cff-95e0-b48409ae85a2"
      },
      "execution_count": 13,
      "outputs": [
        {
          "output_type": "stream",
          "name": "stdout",
          "text": [
            "(14, 'IT', 65000.0)\n",
            "(1, 'Finance', 55000.0)\n",
            "(8, 'HUman Capital', 45000.0)\n",
            "(18, 'Sales', 50000.0)\n"
          ]
        }
      ]
    },
    {
      "cell_type": "code",
      "source": [
        "cursor = conn.execute(''' SELECT * FROM Employees''')\n",
        "for row in cursor:\n",
        "  print(row)"
      ],
      "metadata": {
        "colab": {
          "base_uri": "https://localhost:8080/"
        },
        "id": "C8lqX8TusrXl",
        "outputId": "01f039aa-ad8a-4813-ebb8-e785ea2b7129"
      },
      "execution_count": 14,
      "outputs": [
        {
          "output_type": "stream",
          "name": "stdout",
          "text": [
            "(3, 'Faith', 'Pembe', 14, 1500)\n",
            "(10, 'Joy', 'Sasha', 1, 1300)\n",
            "(7, 'Plain', 'Smart', 14, 1700)\n",
            "(4, 'Hush', 'Baby', 18, 1200)\n",
            "(11, 'Given', 'Vibes', 18, 1400)\n",
            "(6, 'Lovely', 'Daise', 8, 1500)\n",
            "(15, 'James', 'Bund', 14, 1500)\n",
            "(8, 'Josh', 'Tufune', 1, 1700)\n",
            "(76, 'Gayme', 'Tymz', 1, 1900)\n",
            "(2, 'Funny', 'Bonez', 8, 1600)\n",
            "(5, 'Googney', 'Tunez', 18, 1700)\n",
            "(543, 'Bale', 'Pembe', 18, 1700)\n",
            "(49, 'Bale', 'Lalupon', 1, 1500)\n"
          ]
        }
      ]
    },
    {
      "cell_type": "code",
      "source": [
        "cursor = conn.execute(''' SELECT Name, LastName FROM Employees''')\n",
        "for Columns in cursor:\n",
        "  print(Columns)"
      ],
      "metadata": {
        "colab": {
          "base_uri": "https://localhost:8080/"
        },
        "id": "5_t_tHtmsraZ",
        "outputId": "f5090cb0-4f64-4082-915c-9a6e19903ac5"
      },
      "execution_count": 17,
      "outputs": [
        {
          "output_type": "stream",
          "name": "stdout",
          "text": [
            "('Faith', 'Pembe')\n",
            "('Joy', 'Sasha')\n",
            "('Plain', 'Smart')\n",
            "('Hush', 'Baby')\n",
            "('Given', 'Vibes')\n",
            "('Lovely', 'Daise')\n",
            "('James', 'Bund')\n",
            "('Josh', 'Tufune')\n",
            "('Gayme', 'Tymz')\n",
            "('Funny', 'Bonez')\n",
            "('Googney', 'Tunez')\n",
            "('Bale', 'Pembe')\n",
            "('Bale', 'Lalupon')\n"
          ]
        }
      ]
    },
    {
      "cell_type": "markdown",
      "source": [
        "##PROBLEM STATEMENTS\n"
      ],
      "metadata": {
        "id": "FrB2oP70uUo1"
      }
    },
    {
      "cell_type": "markdown",
      "source": [
        "**Select all the data of employees that work in department 1 and department 14)**"
      ],
      "metadata": {
        "id": "qImo03JD0Mjm"
      }
    },
    {
      "cell_type": "code",
      "source": [
        "cursor = conn.execute('''\n",
        "  SELECT *FROM Employees\n",
        "  WHERE Department IN (1, 14);\n",
        "  ''')\n",
        "for row in cursor:\n",
        "  print(row)"
      ],
      "metadata": {
        "colab": {
          "base_uri": "https://localhost:8080/"
        },
        "id": "mwQeWCHvsrd0",
        "outputId": "8c1354f2-5ea8-45ed-c119-6291b8ec377d"
      },
      "execution_count": 28,
      "outputs": [
        {
          "output_type": "stream",
          "name": "stdout",
          "text": [
            "(3, 'Faith', 'Pembe', 14, 1500)\n",
            "(10, 'Joy', 'Sasha', 1, 1300)\n",
            "(7, 'Plain', 'Smart', 14, 1700)\n",
            "(15, 'James', 'Bund', 14, 1500)\n",
            "(8, 'Josh', 'Tufune', 1, 1700)\n",
            "(76, 'Gayme', 'Tymz', 1, 1900)\n",
            "(49, 'Bale', 'Lalupon', 1, 1500)\n"
          ]
        }
      ]
    },
    {
      "cell_type": "markdown",
      "source": [
        "**Select all employes with Salary starting from 1,400.00**"
      ],
      "metadata": {
        "id": "KXuK9OctunM3"
      }
    },
    {
      "cell_type": "code",
      "source": [
        "cursor = conn.execute('''\n",
        "  SELECT *FROM Employees\n",
        "  WHERE Salary >= (1400);\n",
        "  ''')\n",
        "for row in cursor:\n",
        "  print(row)"
      ],
      "metadata": {
        "colab": {
          "base_uri": "https://localhost:8080/"
        },
        "id": "eihdHXOvsrh9",
        "outputId": "7f740cc5-b2cd-4f6c-d579-ccdcc7d17376"
      },
      "execution_count": 29,
      "outputs": [
        {
          "output_type": "stream",
          "name": "stdout",
          "text": [
            "(3, 'Faith', 'Pembe', 14, 1500)\n",
            "(7, 'Plain', 'Smart', 14, 1700)\n",
            "(11, 'Given', 'Vibes', 18, 1400)\n",
            "(6, 'Lovely', 'Daise', 8, 1500)\n",
            "(15, 'James', 'Bund', 14, 1500)\n",
            "(8, 'Josh', 'Tufune', 1, 1700)\n",
            "(76, 'Gayme', 'Tymz', 1, 1900)\n",
            "(2, 'Funny', 'Bonez', 8, 1600)\n",
            "(5, 'Googney', 'Tunez', 18, 1700)\n",
            "(543, 'Bale', 'Pembe', 18, 1700)\n",
            "(49, 'Bale', 'Lalupon', 1, 1500)\n"
          ]
        }
      ]
    },
    {
      "cell_type": "markdown",
      "source": [
        "**Select all employes with Salary below 1,400.00**"
      ],
      "metadata": {
        "id": "lNwSnDDh5lQ7"
      }
    },
    {
      "cell_type": "code",
      "source": [
        "cursor = conn.execute('''\n",
        "  SELECT * FROM Employees\n",
        "  WHERE Salary < 1400;\n",
        "  ''')\n",
        "for row in cursor:\n",
        "  print (row)"
      ],
      "metadata": {
        "colab": {
          "base_uri": "https://localhost:8080/"
        },
        "id": "deQTKMSa51KG",
        "outputId": "2e4d35bc-7397-47ed-ff46-f999e19fa897"
      },
      "execution_count": 31,
      "outputs": [
        {
          "output_type": "stream",
          "name": "stdout",
          "text": [
            "(10, 'Joy', 'Sasha', 1, 1300)\n",
            "(4, 'Hush', 'Baby', 18, 1200)\n"
          ]
        }
      ]
    },
    {
      "cell_type": "markdown",
      "source": [
        "**We are working on a Legth of Service benefit project and this involves giving gift cards to 5 staffs who have stayed above 2 years with the firm. However we know some have stayed longer than others and we want to prioritize those who have stayed longest. We also know that all staff with SSN 0020 and below have stayed atleast 2 years with the firm. Come up with a list of staff that will qualify for this benefit.**"
      ],
      "metadata": {
        "id": "o-3zi-fNu1JT"
      }
    },
    {
      "cell_type": "code",
      "source": [
        "cursor = conn.execute('''\n",
        "  SELECT * FROM Employees\n",
        "  WHERE SSN <= '0020'\n",
        "  LIMIT 5;\n",
        "  ''')\n",
        "for row in cursor:\n",
        "  print (row)"
      ],
      "metadata": {
        "colab": {
          "base_uri": "https://localhost:8080/"
        },
        "id": "F0pMRi94BdR8",
        "outputId": "b407c861-43f4-46b4-e3db-c0844be023f2"
      },
      "execution_count": 56,
      "outputs": [
        {
          "output_type": "stream",
          "name": "stdout",
          "text": [
            "(2, 'Funny', 'Bonez', 8, 1600)\n",
            "(3, 'Faith', 'Pembe', 14, 1500)\n",
            "(4, 'Hush', 'Baby', 18, 1200)\n",
            "(5, 'Googney', 'Tunez', 18, 1700)\n",
            "(6, 'Lovely', 'Daise', 8, 1500)\n"
          ]
        }
      ]
    },
    {
      "cell_type": "code",
      "source": [
        "\n"
      ],
      "metadata": {
        "id": "WioMgKttsrpD"
      },
      "execution_count": 56,
      "outputs": []
    },
    {
      "cell_type": "markdown",
      "source": [
        "**What percentage of finance department budget is currently being utilized?**"
      ],
      "metadata": {
        "id": "vUL9cxBYwI3g"
      }
    },
    {
      "cell_type": "code",
      "source": [
        "cursor = conn.execute('''\n",
        "  SELECT ROUND (\n",
        "   (SELECT SUM(Salary) FROM Employees\n",
        "    WHERE Department IS 1)\n",
        "    /\n",
        "    (SELECT SUM(Budget) FROM Departments\n",
        "    WHERE Name IS 'Finance') * 100), 2\n",
        "  AS Result;\n",
        "''')\n",
        "for row in cursor:\n",
        "  print (f\"Finance is utilizing {row[0]} percent of their budget\" )"
      ],
      "metadata": {
        "colab": {
          "base_uri": "https://localhost:8080/"
        },
        "id": "gkk4lKpwwVUL",
        "outputId": "e3ffa0f6-509b-47ec-9800-21c087edee23"
      },
      "execution_count": 91,
      "outputs": [
        {
          "output_type": "stream",
          "name": "stdout",
          "text": [
            "Finance is utilizing 12.0 percent of their budget\n"
          ]
        }
      ]
    },
    {
      "cell_type": "code",
      "source": [],
      "metadata": {
        "id": "L84lKW-JyCqO"
      },
      "execution_count": null,
      "outputs": []
    },
    {
      "cell_type": "markdown",
      "source": [],
      "metadata": {
        "id": "YrD0L42c04SQ"
      }
    },
    {
      "cell_type": "markdown",
      "source": [
        "**What is the average salary for all the departments?**"
      ],
      "metadata": {
        "id": "I2wgsnRwzEWg"
      }
    },
    {
      "cell_type": "code",
      "source": [
        "cursor = conn.execute('''\n",
        "  SELECT AVG(Salary), Department FROM Employees\n",
        "  GROUP BY Department;\n",
        "  ''')\n",
        "for row in cursor:\n",
        "  print (row)"
      ],
      "metadata": {
        "colab": {
          "base_uri": "https://localhost:8080/"
        },
        "id": "KBsRbBtNzQ-Q",
        "outputId": "706a6de7-7efa-4e44-a69d-ab095d1a7e07"
      },
      "execution_count": 93,
      "outputs": [
        {
          "output_type": "stream",
          "name": "stdout",
          "text": [
            "(1600.0, 1)\n",
            "(1550.0, 8)\n",
            "(1566.6666666666667, 14)\n",
            "(1500.0, 18)\n"
          ]
        }
      ]
    },
    {
      "cell_type": "markdown",
      "source": [
        "**Plot a bar chat to show the distribution of salaries per department**"
      ],
      "metadata": {
        "id": "n9esFkWzzKVQ"
      }
    },
    {
      "cell_type": "code",
      "source": [
        "\n",
        "\n",
        "# Use pd.read_sql with a valid SQL query, not a string 'cursor'\n",
        "query = 'SELECT * FROM Departments'\n",
        "df_departments = pd.read_sql(query, conn)\n",
        "\n",
        "# Now you can use the DataFrame 'df_departments' as needed\n",
        "print(df_departments)"
      ],
      "metadata": {
        "colab": {
          "base_uri": "https://localhost:8080/"
        },
        "id": "ODWWiyKYSwKa",
        "outputId": "2062d59a-58c0-4075-8755-7addc2cbc1a2"
      },
      "execution_count": 106,
      "outputs": [
        {
          "output_type": "stream",
          "name": "stdout",
          "text": [
            "   Code           Name   Budget\n",
            "0    14             IT  65000.0\n",
            "1     1        Finance  55000.0\n",
            "2     8  HUman Capital  45000.0\n",
            "3    18          Sales  50000.0\n"
          ]
        }
      ]
    },
    {
      "cell_type": "code",
      "source": [
        "plt.bar(df_departments['Name'], df_departments['Budget'])\n",
        "plt.xlabel('Department Name')\n",
        "plt.ylabel('Budget')\n",
        "plt.title('Department Budgets')\n",
        "plt.xticks(rotation=45, ha='right')  # Rotate x-axis labels for better visibility\n",
        "plt.tight_layout()"
      ],
      "metadata": {
        "colab": {
          "base_uri": "https://localhost:8080/",
          "height": 486
        },
        "id": "v1LOWv7mzh4k",
        "outputId": "f2db6622-7260-4cc2-d3a5-9ae1587cb7c1"
      },
      "execution_count": 108,
      "outputs": [
        {
          "output_type": "display_data",
          "data": {
            "text/plain": [
              "<Figure size 640x480 with 1 Axes>"
            ],
            "image/png": "[encoded data removed]"
          },
          "metadata": {}
        }
      ]
    },
    {
      "cell_type": "markdown",
      "source": [
        "**Plot a Pie chart to show the proportion of staf per department.**"
      ],
      "metadata": {
        "id": "QXmLW5RlziMV"
      }
    },
    {
      "cell_type": "code",
      "source": [
        "\n",
        "\n",
        "df_employees = pd.read_sql('SELECT * FROM Employees', conn)\n",
        "df_employees\n",
        "\n",
        "\n",
        "\n"
      ],
      "metadata": {
        "colab": {
          "base_uri": "https://localhost:8080/",
          "height": 457
        },
        "id": "DeGmkmbTzrGo",
        "outputId": "aed139e6-4f8f-4dda-dbe2-1292cdd964dc"
      },
      "execution_count": 109,
      "outputs": [
        {
          "output_type": "execute_result",
          "data": {
            "text/plain": [
              "    SSN     Name LastName  Department  Salary\n",
              "0     3    Faith    Pembe          14    1500\n",
              "1    10      Joy    Sasha           1    1300\n",
              "2     7    Plain    Smart          14    1700\n",
              "3     4     Hush     Baby          18    1200\n",
              "4    11    Given    Vibes          18    1400\n",
              "5     6   Lovely    Daise           8    1500\n",
              "6    15    James     Bund          14    1500\n",
              "7     8     Josh   Tufune           1    1700\n",
              "8    76    Gayme     Tymz           1    1900\n",
              "9     2    Funny    Bonez           8    1600\n",
              "10    5  Googney    Tunez          18    1700\n",
              "11  543     Bale    Pembe          18    1700\n",
              "12   49     Bale  Lalupon           1    1500"
            ],
            "text/html": [
              "\n",
              "  <div id=\"df-8b828e85-1ce3-4318-aa23-e7b51b89b2f1\" class=\"colab-df-container\">\n",
              "    <div>\n",
              "<style scoped>\n",
              "    .dataframe tbody tr th:only-of-type {\n",
              "        vertical-align: middle;\n",
              "    }\n",
              "\n",
              "    .dataframe tbody tr th {\n",
              "        vertical-align: top;\n",
              "    }\n",
              "\n",
              "    .dataframe thead th {\n",
              "        text-align: right;\n",
              "    }\n",
              "</style>\n",
              "<table border=\"1\" class=\"dataframe\">\n",
              "  <thead>\n",
              "    <tr style=\"text-align: right;\">\n",
              "      <th></th>\n",
              "      <th>SSN</th>\n",
              "      <th>Name</th>\n",
              "      <th>LastName</th>\n",
              "      <th>Department</th>\n",
              "      <th>Salary</th>\n",
              "    </tr>\n",
              "  </thead>\n",
              "  <tbody>\n",
              "    <tr>\n",
              "      <th>0</th>\n",
              "      <td>3</td>\n",
              "      <td>Faith</td>\n",
              "      <td>Pembe</td>\n",
              "      <td>14</td>\n",
              "      <td>1500</td>\n",
              "    </tr>\n",
              "    <tr>\n",
              "      <th>1</th>\n",
              "      <td>10</td>\n",
              "      <td>Joy</td>\n",
              "      <td>Sasha</td>\n",
              "      <td>1</td>\n",
              "      <td>1300</td>\n",
              "    </tr>\n",
              "    <tr>\n",
              "      <th>2</th>\n",
              "      <td>7</td>\n",
              "      <td>Plain</td>\n",
              "      <td>Smart</td>\n",
              "      <td>14</td>\n",
              "      <td>1700</td>\n",
              "    </tr>\n",
              "    <tr>\n",
              "      <th>3</th>\n",
              "      <td>4</td>\n",
              "      <td>Hush</td>\n",
              "      <td>Baby</td>\n",
              "      <td>18</td>\n",
              "      <td>1200</td>\n",
              "    </tr>\n",
              "    <tr>\n",
              "      <th>4</th>\n",
              "      <td>11</td>\n",
              "      <td>Given</td>\n",
              "      <td>Vibes</td>\n",
              "      <td>18</td>\n",
              "      <td>1400</td>\n",
              "    </tr>\n",
              "    <tr>\n",
              "      <th>5</th>\n",
              "      <td>6</td>\n",
              "      <td>Lovely</td>\n",
              "      <td>Daise</td>\n",
              "      <td>8</td>\n",
              "      <td>1500</td>\n",
              "    </tr>\n",
              "    <tr>\n",
              "      <th>6</th>\n",
              "      <td>15</td>\n",
              "      <td>James</td>\n",
              "      <td>Bund</td>\n",
              "      <td>14</td>\n",
              "      <td>1500</td>\n",
              "    </tr>\n",
              "    <tr>\n",
              "      <th>7</th>\n",
              "      <td>8</td>\n",
              "      <td>Josh</td>\n",
              "      <td>Tufune</td>\n",
              "      <td>1</td>\n",
              "      <td>1700</td>\n",
              "    </tr>\n",
              "    <tr>\n",
              "      <th>8</th>\n",
              "      <td>76</td>\n",
              "      <td>Gayme</td>\n",
              "      <td>Tymz</td>\n",
              "      <td>1</td>\n",
              "      <td>1900</td>\n",
              "    </tr>\n",
              "    <tr>\n",
              "      <th>9</th>\n",
              "      <td>2</td>\n",
              "      <td>Funny</td>\n",
              "      <td>Bonez</td>\n",
              "      <td>8</td>\n",
              "      <td>1600</td>\n",
              "    </tr>\n",
              "    <tr>\n",
              "      <th>10</th>\n",
              "      <td>5</td>\n",
              "      <td>Googney</td>\n",
              "      <td>Tunez</td>\n",
              "      <td>18</td>\n",
              "      <td>1700</td>\n",
              "    </tr>\n",
              "    <tr>\n",
              "      <th>11</th>\n",
              "      <td>543</td>\n",
              "      <td>Bale</td>\n",
              "      <td>Pembe</td>\n",
              "      <td>18</td>\n",
              "      <td>1700</td>\n",
              "    </tr>\n",
              "    <tr>\n",
              "      <th>12</th>\n",
              "      <td>49</td>\n",
              "      <td>Bale</td>\n",
              "      <td>Lalupon</td>\n",
              "      <td>1</td>\n",
              "      <td>1500</td>\n",
              "    </tr>\n",
              "  </tbody>\n",
              "</table>\n",
              "</div>\n",
              "    <div class=\"colab-df-buttons\">\n",
              "\n",
              "  <div class=\"colab-df-container\">\n",
              "    <button class=\"colab-df-convert\" onclick=\"convertToInteractive('df-8b828e85-1ce3-4318-aa23-e7b51b89b2f1')\"\n",
              "            title=\"Convert this dataframe to an interactive table.\"\n",
              "            style=\"display:none;\">\n",
              "\n",
              "  <svg xmlns=\"http://www.w3.org/2000/svg\" height=\"24px\" viewBox=\"0 -960 960 960\">\n",
              "    <path d=\"M120-120v-720h720v720H120Zm60-500h600v-160H180v160Zm220 220h160v-160H400v160Zm0 220h160v-160H400v160ZM180-400h160v-160H180v160Zm440 0h160v-160H620v160ZM180-180h160v-160H180v160Zm440 0h160v-160H620v160Z\"/>\n",
              "  </svg>\n",
              "    </button>\n",
              "\n",
              "  <style>\n",
              "    .colab-df-container {\n",
              "      display:flex;\n",
              "      gap: 12px;\n",
              "    }\n",
              "\n",
              "    .colab-df-convert {\n",
              "      background-color: #E8F0FE;\n",
              "      border: none;\n",
              "      border-radius: 50%;\n",
              "      cursor: pointer;\n",
              "      display: none;\n",
              "      fill: #1967D2;\n",
              "      height: 32px;\n",
              "      padding: 0 0 0 0;\n",
              "      width: 32px;\n",
              "    }\n",
              "\n",
              "    .colab-df-convert:hover {\n",
              "      background-color: #E2EBFA;\n",
              "      box-shadow: 0px 1px 2px rgba(60, 64, 67, 0.3), 0px 1px 3px 1px rgba(60, 64, 67, 0.15);\n",
              "      fill: #174EA6;\n",
              "    }\n",
              "\n",
              "    .colab-df-buttons div {\n",
              "      margin-bottom: 4px;\n",
              "    }\n",
              "\n",
              "    [theme=dark] .colab-df-convert {\n",
              "      background-color: #3B4455;\n",
              "      fill: #D2E3FC;\n",
              "    }\n",
              "\n",
              "    [theme=dark] .colab-df-convert:hover {\n",
              "      background-color: #434B5C;\n",
              "      box-shadow: 0px 1px 3px 1px rgba(0, 0, 0, 0.15);\n",
              "      filter: drop-shadow(0px 1px 2px rgba(0, 0, 0, 0.3));\n",
              "      fill: #FFFFFF;\n",
              "    }\n",
              "  </style>\n",
              "\n",
              "    <script>\n",
              "      const buttonEl =\n",
              "        document.querySelector('#df-8b828e85-1ce3-4318-aa23-e7b51b89b2f1 button.colab-df-convert');\n",
              "      buttonEl.style.display =\n",
              "        google.colab.kernel.accessAllowed ? 'block' : 'none';\n",
              "\n",
              "      async function convertToInteractive(key) {\n",
              "        const element = document.querySelector('#df-8b828e85-1ce3-4318-aa23-e7b51b89b2f1');\n",
              "        const dataTable =\n",
              "          await google.colab.kernel.invokeFunction('convertToInteractive',\n",
              "                                                    [key], {});\n",
              "        if (!dataTable) return;\n",
              "\n",
              "        const docLinkHtml = 'Like what you see? Visit the ' +\n",
              "          '<a target=\"_blank\" href=https://colab.research.google.com/notebooks/data_table.ipynb>data table notebook</a>'\n",
              "          + ' to learn more about interactive tables.';\n",
              "        element.innerHTML = '';\n",
              "        dataTable['output_type'] = 'display_data';\n",
              "        await google.colab.output.renderOutput(dataTable, element);\n",
              "        const docLink = document.createElement('div');\n",
              "        docLink.innerHTML = docLinkHtml;\n",
              "        element.appendChild(docLink);\n",
              "      }\n",
              "    </script>\n",
              "  </div>\n",
              "\n",
              "\n",
              "<div id=\"df-ab914911-4a64-4454-857d-de7b6e5efcaf\">\n",
              "  <button class=\"colab-df-quickchart\" onclick=\"quickchart('df-ab914911-4a64-4454-857d-de7b6e5efcaf')\"\n",
              "            title=\"Suggest charts\"\n",
              "            style=\"display:none;\">\n",
              "\n",
              "<svg xmlns=\"http://www.w3.org/2000/svg\" height=\"24px\"viewBox=\"0 0 24 24\"\n",
              "     width=\"24px\">\n",
              "    <g>\n",
              "        <path d=\"M19 3H5c-1.1 0-2 .9-2 2v14c0 1.1.9 2 2 2h14c1.1 0 2-.9 2-2V5c0-1.1-.9-2-2-2zM9 17H7v-7h2v7zm4 0h-2V7h2v10zm4 0h-2v-4h2v4z\"/>\n",
              "    </g>\n",
              "</svg>\n",
              "  </button>\n",
              "\n",
              "<style>\n",
              "  .colab-df-quickchart {\n",
              "      --bg-color: #E8F0FE;\n",
              "      --fill-color: #1967D2;\n",
              "      --hover-bg-color: #E2EBFA;\n",
              "      --hover-fill-color: #174EA6;\n",
              "      --disabled-fill-color: #AAA;\n",
              "      --disabled-bg-color: #DDD;\n",
              "  }\n",
              "\n",
              "  [theme=dark] .colab-df-quickchart {\n",
              "      --bg-color: #3B4455;\n",
              "      --fill-color: #D2E3FC;\n",
              "      --hover-bg-color: #434B5C;\n",
              "      --hover-fill-color: #FFFFFF;\n",
              "      --disabled-bg-color: #3B4455;\n",
              "      --disabled-fill-color: #666;\n",
              "  }\n",
              "\n",
              "  .colab-df-quickchart {\n",
              "    background-color: var(--bg-color);\n",
              "    border: none;\n",
              "    border-radius: 50%;\n",
              "    cursor: pointer;\n",
              "    display: none;\n",
              "    fill: var(--fill-color);\n",
              "    height: 32px;\n",
              "    padding: 0;\n",
              "    width: 32px;\n",
              "  }\n",
              "\n",
              "  .colab-df-quickchart:hover {\n",
              "    background-color: var(--hover-bg-color);\n",
              "    box-shadow: 0 1px 2px rgba(60, 64, 67, 0.3), 0 1px 3px 1px rgba(60, 64, 67, 0.15);\n",
              "    fill: var(--button-hover-fill-color);\n",
              "  }\n",
              "\n",
              "  .colab-df-quickchart-complete:disabled,\n",
              "  .colab-df-quickchart-complete:disabled:hover {\n",
              "    background-color: var(--disabled-bg-color);\n",
              "    fill: var(--disabled-fill-color);\n",
              "    box-shadow: none;\n",
              "  }\n",
              "\n",
              "  .colab-df-spinner {\n",
              "    border: 2px solid var(--fill-color);\n",
              "    border-color: transparent;\n",
              "    border-bottom-color: var(--fill-color);\n",
              "    animation:\n",
              "      spin 1s steps(1) infinite;\n",
              "  }\n",
              "\n",
              "  @keyframes spin {\n",
              "    0% {\n",
              "      border-color: transparent;\n",
              "      border-bottom-color: var(--fill-color);\n",
              "      border-left-color: var(--fill-color);\n",
              "    }\n",
              "    20% {\n",
              "      border-color: transparent;\n",
              "      border-left-color: var(--fill-color);\n",
              "      border-top-color: var(--fill-color);\n",
              "    }\n",
              "    30% {\n",
              "      border-color: transparent;\n",
              "      border-left-color: var(--fill-color);\n",
              "      border-top-color: var(--fill-color);\n",
              "      border-right-color: var(--fill-color);\n",
              "    }\n",
              "    40% {\n",
              "      border-color: transparent;\n",
              "      border-right-color: var(--fill-color);\n",
              "      border-top-color: var(--fill-color);\n",
              "    }\n",
              "    60% {\n",
              "      border-color: transparent;\n",
              "      border-right-color: var(--fill-color);\n",
              "    }\n",
              "    80% {\n",
              "      border-color: transparent;\n",
              "      border-right-color: var(--fill-color);\n",
              "      border-bottom-color: var(--fill-color);\n",
              "    }\n",
              "    90% {\n",
              "      border-color: transparent;\n",
              "      border-bottom-color: var(--fill-color);\n",
              "    }\n",
              "  }\n",
              "</style>\n",
              "\n",
              "  <script>\n",
              "    async function quickchart(key) {\n",
              "      const quickchartButtonEl =\n",
              "        document.querySelector('#' + key + ' button');\n",
              "      quickchartButtonEl.disabled = true;  // To prevent multiple clicks.\n",
              "      quickchartButtonEl.classList.add('colab-df-spinner');\n",
              "      try {\n",
              "        const charts = await google.colab.kernel.invokeFunction(\n",
              "            'suggestCharts', [key], {});\n",
              "      } catch (error) {\n",
              "        console.error('Error during call to suggestCharts:', error);\n",
              "      }\n",
              "      quickchartButtonEl.classList.remove('colab-df-spinner');\n",
              "      quickchartButtonEl.classList.add('colab-df-quickchart-complete');\n",
              "    }\n",
              "    (() => {\n",
              "      let quickchartButtonEl =\n",
              "        document.querySelector('#df-ab914911-4a64-4454-857d-de7b6e5efcaf button');\n",
              "      quickchartButtonEl.style.display =\n",
              "        google.colab.kernel.accessAllowed ? 'block' : 'none';\n",
              "    })();\n",
              "  </script>\n",
              "</div>\n",
              "    </div>\n",
              "  </div>\n"
            ]
          },
          "metadata": {},
          "execution_count": 109
        }
      ]
    },
    {
      "cell_type": "code",
      "source": [
        "# Count the number of employees in each department\n",
        "department_counts = df_employees['Department'].value_counts()\n",
        "\n",
        "labels = department_counts.index\n",
        "sizes = department_counts.values\n",
        "explode = (0.1, 0, 0, 0)  # Explode the first slice for better visibility, adjust as needed\n",
        "\n",
        "plt.pie(sizes, labels=labels, explode=explode, autopct='%1.1f%%', startangle=140)\n",
        "plt.axis('equal')  # Equal aspect ratio ensures that pie is drawn as a circle.\n",
        "\n",
        "# Title for the pie chart\n",
        "plt.title('Proportion of Staff by Department')\n",
        "\n",
        "# Show the pie chart\n",
        "plt.show()"
      ],
      "metadata": {
        "colab": {
          "base_uri": "https://localhost:8080/",
          "height": 428
        },
        "id": "liRA_gBGWCdG",
        "outputId": "aeb7a5fd-6c74-42a1-daef-a4de3b0ebb01"
      },
      "execution_count": 112,
      "outputs": [
        {
          "output_type": "display_data",
          "data": {
            "text/plain": [
              "<Figure size 640x480 with 1 Axes>"
            ],
            "image/png": "[encoded data removed]"
          },
          "metadata": {}
        }
      ]
    },
    {
      "cell_type": "markdown",
      "source": [
        "**Plot a scatter chart to show thesalary distribution.**"
      ],
      "metadata": {
        "id": "FwC53hCez2PL"
      }
    },
    {
      "cell_type": "code",
      "source": [],
      "metadata": {
        "id": "KGuWTQt6z4Q2"
      },
      "execution_count": null,
      "outputs": []
    },
    {
      "cell_type": "markdown",
      "source": [
        "**James Bund a systems adminitrator made a bluder because he had racist tendencies and he excluded a member of staff (Bale Lalupon) details from the Salaries database as he was Black. He was later found out and exited from the organization. What did he do to achieve this?**"
      ],
      "metadata": {
        "id": "_nFDrBzhwV1a"
      }
    },
    {
      "cell_type": "code",
      "source": [],
      "metadata": {
        "id": "CXV5UN28xYPu"
      },
      "execution_count": null,
      "outputs": []
    },
    {
      "cell_type": "markdown",
      "source": [
        "***Two weeks later, a new staff was recruited to fill James space. Her name is Julie Shanks. She was going to be paid 2000.00 due to her years of experience. One of the first things she needed to do was? ***\n",
        "\n",
        "1. Delete James profile from the database.\n",
        "2. Re-add Bale Lalupon to the database.\n",
        "3. Add herself to the database.\n",
        "\n",
        "***What would she have done? ***"
      ],
      "metadata": {
        "id": "QIKxsvqqxZl1"
      }
    },
    {
      "cell_type": "code",
      "source": [],
      "metadata": {
        "id": "awzIOzS00az1"
      },
      "execution_count": 108,
      "outputs": []
    }
  ]
}